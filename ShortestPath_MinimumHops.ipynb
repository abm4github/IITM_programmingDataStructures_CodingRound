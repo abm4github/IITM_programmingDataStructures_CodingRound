{
  "nbformat": 4,
  "nbformat_minor": 0,
  "metadata": {
    "colab": {
      "provenance": [],
      "authorship_tag": "ABX9TyMb39U/9mzi2BdCNx5EQdwg",
      "include_colab_link": true
    },
    "kernelspec": {
      "name": "python3",
      "display_name": "Python 3"
    },
    "language_info": {
      "name": "python"
    }
  },
  "cells": [
    {
      "cell_type": "markdown",
      "metadata": {
        "id": "view-in-github",
        "colab_type": "text"
      },
      "source": [
        "<a href=\"https://colab.research.google.com/github/abm4github/IITM_programmingDataStructures_CodingRound/blob/main/ShortestPath_MinimumHops.ipynb\" target=\"_parent\"><img src=\"https://colab.research.google.com/assets/colab-badge.svg\" alt=\"Open In Colab\"/></a>"
      ]
    },
    {
      "cell_type": "markdown",
      "source": [
        "find the minimum number of hops and shortest path between given two vertices using adjacency list"
      ],
      "metadata": {
        "id": "t8Qzoam2_Z2C"
      }
    },
    {
      "cell_type": "code",
      "execution_count": 1,
      "metadata": {
        "id": "U9gNX4qtmVXI"
      },
      "outputs": [],
      "source": [
        "# finding shortest path using adjacency list\n",
        "\n",
        "def minimumhops(AList, start, end):\n",
        "  queue = [start]\n",
        "  explored = {}\n",
        "  previous = {}\n",
        "  l = []\n",
        "  for i in AList.keys():\n",
        "    explored[i] = False\n",
        "    previous[i] = -1\n",
        "\n",
        "  while queue != []:\n",
        "    for j in AList[queue[0]]:\n",
        "      if explored[j] == False:\n",
        "        queue.append(j)\n",
        "        if previous[j] == -1:   # you may experiment by removing this condition, and run it on last two testcases\n",
        "          previous[j] = queue[0]\n",
        "        if j == end:\n",
        "          temp = end\n",
        "          while temp != start:\n",
        "            l = [temp] + l\n",
        "            temp = previous[temp]\n",
        "          l = [start] + l\n",
        "          return len(l)-1, l\n",
        "      if j == AList[queue[0]][-1]:\n",
        "          explored[queue[0]] = True\n",
        "          queue.pop(0)\n",
        "  return [start]\n",
        "      "
      ]
    },
    {
      "cell_type": "code",
      "source": [
        "start = 8\n",
        "end = 0\n",
        "AList = {0: [8],8: [9],1: [3, 5, 8],3: [1, 7, 2],5: [4],2: [8, 9],9: [1],7: [8],4: [2, 6],6: [9]}\n",
        "minimumhops(AList, start, end)"
      ],
      "metadata": {
        "colab": {
          "base_uri": "https://localhost:8080/"
        },
        "id": "41KexazStSPh",
        "outputId": "e9eb4705-dfc5-4c02-f7f1-4bb8d125f3dc"
      },
      "execution_count": 2,
      "outputs": [
        {
          "output_type": "execute_result",
          "data": {
            "text/plain": [
              "[8]"
            ]
          },
          "metadata": {},
          "execution_count": 2
        }
      ]
    },
    {
      "cell_type": "code",
      "source": [
        "start = 8\n",
        "end = 7\n",
        "AList = {0: [8],8: [0, 9],1: [3, 5, 8],3: [1, 7, 2],5: [4],2: [8, 9],9: [1],7: [8],4: [2, 6],6: [9]}\n",
        "minimumhops(AList, start, end)"
      ],
      "metadata": {
        "colab": {
          "base_uri": "https://localhost:8080/"
        },
        "id": "HW2H-oNDtSS-",
        "outputId": "706cf40f-99dd-4583-d84e-2ba14c4971f8"
      },
      "execution_count": 3,
      "outputs": [
        {
          "output_type": "execute_result",
          "data": {
            "text/plain": [
              "(4, [8, 9, 1, 3, 7])"
            ]
          },
          "metadata": {},
          "execution_count": 3
        }
      ]
    },
    {
      "cell_type": "code",
      "source": [
        "start = 0\n",
        "end = 1\n",
        "AList = {0: [1], 1: [2], 2: [3], 3: [4], 4: [5], 5: [6], 6: [7], 7: [8], 8: [9], 9:\n",
        "[0]}\n",
        "minimumhops(AList, start, end)"
      ],
      "metadata": {
        "colab": {
          "base_uri": "https://localhost:8080/"
        },
        "id": "pkCCaZjMtSOA",
        "outputId": "94644d76-915a-4148-e0b3-87d520cadf4a"
      },
      "execution_count": 4,
      "outputs": [
        {
          "output_type": "execute_result",
          "data": {
            "text/plain": [
              "(1, [0, 1])"
            ]
          },
          "metadata": {},
          "execution_count": 4
        }
      ]
    },
    {
      "cell_type": "code",
      "source": [
        "start = 1\n",
        "end = 0\n",
        "AList = {0: [1], 1: [2], 2: [3], 3: [4], 4: [5], 5: [6], 6: [7], 7: [8], 8: [9], 9:\n",
        "[0]}\n",
        "minimumhops(AList, start, end)"
      ],
      "metadata": {
        "colab": {
          "base_uri": "https://localhost:8080/"
        },
        "id": "CwMGOQzhtSMQ",
        "outputId": "17fb7520-7112-4225-e224-d3762419aca0"
      },
      "execution_count": 5,
      "outputs": [
        {
          "output_type": "execute_result",
          "data": {
            "text/plain": [
              "(9, [1, 2, 3, 4, 5, 6, 7, 8, 9, 0])"
            ]
          },
          "metadata": {},
          "execution_count": 5
        }
      ]
    },
    {
      "cell_type": "code",
      "source": [
        "start = 1\n",
        "end = 0\n",
        "AList = {0: [1], 1: [2, 3], 2: [3, 4], 3: [4, 5], 4: [5, 6], 5: [6, 7], 6: [7, 8], 7:\n",
        "[8, 9], 8: [9, 0], 9: [0]}\n",
        "minimumhops(AList, start, end)"
      ],
      "metadata": {
        "colab": {
          "base_uri": "https://localhost:8080/"
        },
        "id": "qm-zjvL1tSKT",
        "outputId": "4ecae725-2b5a-4b55-d129-e28af41c7000"
      },
      "execution_count": 6,
      "outputs": [
        {
          "output_type": "execute_result",
          "data": {
            "text/plain": [
              "(5, [1, 2, 4, 6, 8, 0])"
            ]
          },
          "metadata": {},
          "execution_count": 6
        }
      ]
    },
    {
      "cell_type": "code",
      "source": [
        "start = 1\n",
        "end = 0\n",
        "AList = {0: [1], 1: [2, 3, 4], 2: [3, 4, 5], 3: [4, 5, 6], 4: [5, 6, 7], 5: [6, 7,\n",
        "8], 6: [7, 8, 9], 7: [8, 9, 0], 8: [9, 0], 9: [0]} \n",
        "minimumhops(AList, start, end)"
      ],
      "metadata": {
        "colab": {
          "base_uri": "https://localhost:8080/"
        },
        "id": "Oqm9_Vo_tSIK",
        "outputId": "424154ad-1bba-4cba-bf53-b4983ebddffc"
      },
      "execution_count": 7,
      "outputs": [
        {
          "output_type": "execute_result",
          "data": {
            "text/plain": [
              "(3, [1, 4, 7, 0])"
            ]
          },
          "metadata": {},
          "execution_count": 7
        }
      ]
    }
  ]
}