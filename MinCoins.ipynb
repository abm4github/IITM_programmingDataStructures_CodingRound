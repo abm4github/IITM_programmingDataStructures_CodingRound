{
  "nbformat": 4,
  "nbformat_minor": 0,
  "metadata": {
    "colab": {
      "provenance": [],
      "authorship_tag": "ABX9TyP+XRCYuCIJ8CBhYRzH6eWe",
      "include_colab_link": true
    },
    "kernelspec": {
      "name": "python3",
      "display_name": "Python 3"
    },
    "language_info": {
      "name": "python"
    }
  },
  "cells": [
    {
      "cell_type": "markdown",
      "metadata": {
        "id": "view-in-github",
        "colab_type": "text"
      },
      "source": [
        "<a href=\"https://colab.research.google.com/github/abm4github/IITM_programmingDataStructures_CodingRound/blob/main/MinCoins.ipynb\" target=\"_parent\"><img src=\"https://colab.research.google.com/assets/colab-badge.svg\" alt=\"Open In Colab\"/></a>"
      ]
    },
    {
      "cell_type": "code",
      "execution_count": 30,
      "metadata": {
        "id": "5_yu2qyIHvI-"
      },
      "outputs": [],
      "source": [
        "# finding minimum number of coins\n",
        "\n",
        "d = {0:0}\n",
        "def minCoins(coins, V):\n",
        "  result = float('inf')\n",
        "  global d\n",
        "  \n",
        "  if V == 0:\n",
        "    return 0\n",
        "  for i in coins:\n",
        "    if V-i >= 0:\n",
        "      if V-i in d.keys():\n",
        "        subresult = d[V-i]\n",
        "      else:\n",
        "        subresult  = minCoins(coins, V-i)\n",
        "        d[V-i] = subresult\n",
        "      if subresult+1 < result:\n",
        "        result = subresult+1   \n",
        "  if result != 10000:\n",
        "    return result\n",
        "  else:\n",
        "    return -1\n"
      ]
    },
    {
      "cell_type": "code",
      "source": [
        "coins = [5,10,25]\n",
        "V = 60\n",
        "minCoins(coins, V)"
      ],
      "metadata": {
        "colab": {
          "base_uri": "https://localhost:8080/"
        },
        "id": "CpgLR61FjYOX",
        "outputId": "3e67c103-dd9f-4508-8c41-e729ae67e8df"
      },
      "execution_count": 31,
      "outputs": [
        {
          "output_type": "execute_result",
          "data": {
            "text/plain": [
              "3"
            ]
          },
          "metadata": {},
          "execution_count": 31
        }
      ]
    },
    {
      "cell_type": "code",
      "source": [
        "coins = [5,10,25]\n",
        "V = 30\n",
        "minCoins(coins, V)"
      ],
      "metadata": {
        "colab": {
          "base_uri": "https://localhost:8080/"
        },
        "id": "wTVO-WDnjYy6",
        "outputId": "dbc08a09-b8b8-4294-9546-10ef5a27b7f8"
      },
      "execution_count": 32,
      "outputs": [
        {
          "output_type": "execute_result",
          "data": {
            "text/plain": [
              "2"
            ]
          },
          "metadata": {},
          "execution_count": 32
        }
      ]
    },
    {
      "cell_type": "code",
      "source": [
        "coins = [9,6,5,1,11]\n",
        "V = 11\n",
        "minCoins(coins, V)"
      ],
      "metadata": {
        "colab": {
          "base_uri": "https://localhost:8080/"
        },
        "id": "9QP9Ch1cjnuk",
        "outputId": "d279ba06-ecbc-498c-aee9-fc6ad9c10569"
      },
      "execution_count": 33,
      "outputs": [
        {
          "output_type": "execute_result",
          "data": {
            "text/plain": [
              "1"
            ]
          },
          "metadata": {},
          "execution_count": 33
        }
      ]
    }
  ]
}