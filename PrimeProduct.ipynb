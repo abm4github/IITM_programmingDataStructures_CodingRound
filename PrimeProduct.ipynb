{
  "nbformat": 4,
  "nbformat_minor": 0,
  "metadata": {
    "colab": {
      "provenance": [],
      "authorship_tag": "ABX9TyNISudAGjvmuaaSOpn/2mOf",
      "include_colab_link": true
    },
    "kernelspec": {
      "name": "python3",
      "display_name": "Python 3"
    },
    "language_info": {
      "name": "python"
    }
  },
  "cells": [
    {
      "cell_type": "markdown",
      "metadata": {
        "id": "view-in-github",
        "colab_type": "text"
      },
      "source": [
        "<a href=\"https://colab.research.google.com/github/abm4github/IITM_programmingDataStructures_CodingRound/blob/main/PrimeProduct.ipynb\" target=\"_parent\"><img src=\"https://colab.research.google.com/assets/colab-badge.svg\" alt=\"Open In Colab\"/></a>"
      ]
    },
    {
      "cell_type": "markdown",
      "source": [
        "An integer m is called prime product if p and q are primes that holds p*q = m"
      ],
      "metadata": {
        "id": "tTkPSvWgZNsD"
      }
    },
    {
      "cell_type": "code",
      "execution_count": 9,
      "metadata": {
        "id": "ih4G9FvrRoHB"
      },
      "outputs": [],
      "source": [
        "def isPrime(n):\n",
        "  for i in range(2,int(n**(1/2)+1)):\n",
        "    if n%i == 0:\n",
        "      return False\n",
        "  return True\n",
        "\n",
        "def prime_product(m):\n",
        "  if m < 4:\n",
        "    return False\n",
        "  for i in range(2, int(m**(1/2)+1)):\n",
        "    if m % i == 0:\n",
        "      if isPrime(i) and isPrime(m/i):\n",
        "        return True\n",
        "  return False\n",
        "      "
      ]
    },
    {
      "cell_type": "code",
      "source": [
        "# all test cases are placed in a single array\n",
        "\n",
        "\n",
        "M = [2, 4, 6, 12, 58, 35, 100, -12, 77]   \n",
        "\n",
        "for m in M:\n",
        "  print(m, prime_product(m))"
      ],
      "metadata": {
        "colab": {
          "base_uri": "https://localhost:8080/"
        },
        "id": "_byCrlKMVlUy",
        "outputId": "d84460ec-487a-46e8-eede-8a87f1ec64ae"
      },
      "execution_count": 10,
      "outputs": [
        {
          "output_type": "stream",
          "name": "stdout",
          "text": [
            "2 False\n",
            "4 True\n",
            "6 True\n",
            "12 False\n",
            "58 True\n",
            "35 True\n",
            "100 False\n",
            "-12 False\n",
            "77 True\n"
          ]
        }
      ]
    }
  ]
}