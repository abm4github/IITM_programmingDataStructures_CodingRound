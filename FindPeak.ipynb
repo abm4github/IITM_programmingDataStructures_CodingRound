{
  "nbformat": 4,
  "nbformat_minor": 0,
  "metadata": {
    "colab": {
      "provenance": [],
      "authorship_tag": "ABX9TyPjEhS3OGZFL2yKjSgYj+VF",
      "include_colab_link": true
    },
    "kernelspec": {
      "name": "python3",
      "display_name": "Python 3"
    },
    "language_info": {
      "name": "python"
    }
  },
  "cells": [
    {
      "cell_type": "markdown",
      "metadata": {
        "id": "view-in-github",
        "colab_type": "text"
      },
      "source": [
        "<a href=\"https://colab.research.google.com/github/abm4github/IITM_programmingDataStructures_CodingRound/blob/main/FindPeak.ipynb\" target=\"_parent\"><img src=\"https://colab.research.google.com/assets/colab-badge.svg\" alt=\"Open In Colab\"/></a>"
      ]
    },
    {
      "cell_type": "code",
      "execution_count": 28,
      "metadata": {
        "id": "Sc1TOEx1jZwn"
      },
      "outputs": [],
      "source": [
        "def FindPeak(L):\n",
        "  if L == []:\n",
        "    return -1\n",
        "  if len(L) == 1:\n",
        "    return L[0]\n",
        "  if len(L) == 2:\n",
        "    return max(L[0], L[1])\n",
        "  found = False\n",
        "  s = 0\n",
        "  e = len(L)-1\n",
        "  mid = len(L)//2\n",
        "  while found == False:\n",
        "    if L[mid-1] < L[mid] and L[mid] > L[mid+1]:\n",
        "      found = True\n",
        "      return L[mid]\n",
        "    elif L[mid-1] > L[mid] and L[mid] > L[mid+1]:\n",
        "      return FindPeak(L[s: mid])\n",
        "    elif L[mid-1] < L[mid] and L[mid] < L[mid+1]:\n",
        "      return FindPeak(L[mid+1: e+1])\n",
        "    else:\n",
        "      return -1"
      ]
    },
    {
      "cell_type": "code",
      "source": [
        "FindPeak([5, 10, 20, 15])"
      ],
      "metadata": {
        "colab": {
          "base_uri": "https://localhost:8080/"
        },
        "id": "PIv57aWeRpbr",
        "outputId": "7d5512df-30e6-471d-f5e1-3027704b3c8e"
      },
      "execution_count": 11,
      "outputs": [
        {
          "output_type": "execute_result",
          "data": {
            "text/plain": [
              "20"
            ]
          },
          "metadata": {},
          "execution_count": 11
        }
      ]
    },
    {
      "cell_type": "code",
      "source": [
        "FindPeak([1,2,3,4,5,6,7,8])"
      ],
      "metadata": {
        "colab": {
          "base_uri": "https://localhost:8080/"
        },
        "id": "_YnC_AltR3MU",
        "outputId": "35e37756-989c-419f-b886-6a80a982478a"
      },
      "execution_count": 12,
      "outputs": [
        {
          "output_type": "execute_result",
          "data": {
            "text/plain": [
              "8"
            ]
          },
          "metadata": {},
          "execution_count": 12
        }
      ]
    },
    {
      "cell_type": "code",
      "source": [
        "FindPeak([1,2,3,4,5,6,7,8,7,6])"
      ],
      "metadata": {
        "colab": {
          "base_uri": "https://localhost:8080/"
        },
        "id": "qLt9BGFxZZxp",
        "outputId": "6609817c-b2fe-4cc9-8bd3-c0fa9e991762"
      },
      "execution_count": 13,
      "outputs": [
        {
          "output_type": "execute_result",
          "data": {
            "text/plain": [
              "8"
            ]
          },
          "metadata": {},
          "execution_count": 13
        }
      ]
    },
    {
      "cell_type": "code",
      "source": [
        "FindPeak([7,6,5,4,3,2,1])"
      ],
      "metadata": {
        "colab": {
          "base_uri": "https://localhost:8080/"
        },
        "id": "AJClqPIDZev6",
        "outputId": "2f12c6b7-8277-4e5e-e76e-d842d7dc826a"
      },
      "execution_count": 14,
      "outputs": [
        {
          "output_type": "execute_result",
          "data": {
            "text/plain": [
              "7"
            ]
          },
          "metadata": {},
          "execution_count": 14
        }
      ]
    },
    {
      "cell_type": "code",
      "source": [
        "FindPeak([10,9,8,7,6,5,4,3])"
      ],
      "metadata": {
        "colab": {
          "base_uri": "https://localhost:8080/"
        },
        "id": "487VhFaXgXuy",
        "outputId": "01af0e90-7bf2-4ed0-ae53-394e91184496"
      },
      "execution_count": 21,
      "outputs": [
        {
          "output_type": "execute_result",
          "data": {
            "text/plain": [
              "10"
            ]
          },
          "metadata": {},
          "execution_count": 21
        }
      ]
    },
    {
      "cell_type": "code",
      "source": [
        "FindPeak([])"
      ],
      "metadata": {
        "colab": {
          "base_uri": "https://localhost:8080/"
        },
        "id": "B9xcklvqhIeT",
        "outputId": "ef2b9c5f-33d1-44cf-85f7-bc08a108452e"
      },
      "execution_count": 29,
      "outputs": [
        {
          "output_type": "execute_result",
          "data": {
            "text/plain": [
              "-1"
            ]
          },
          "metadata": {},
          "execution_count": 29
        }
      ]
    },
    {
      "cell_type": "code",
      "source": [
        "FindPeak([2,2,2,2,2,2,2,2,2,2,2,2,2,2,2,2,2,2])"
      ],
      "metadata": {
        "colab": {
          "base_uri": "https://localhost:8080/"
        },
        "id": "Rv9P9Q31hxen",
        "outputId": "98809e19-28f4-452b-c37f-b44512707cd7"
      },
      "execution_count": 31,
      "outputs": [
        {
          "output_type": "execute_result",
          "data": {
            "text/plain": [
              "-1"
            ]
          },
          "metadata": {},
          "execution_count": 31
        }
      ]
    }
  ]
}