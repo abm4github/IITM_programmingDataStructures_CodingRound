{
  "nbformat": 4,
  "nbformat_minor": 0,
  "metadata": {
    "colab": {
      "provenance": [],
      "authorship_tag": "ABX9TyODWuy/WZlk9+iuMJMVsq0Z",
      "include_colab_link": true
    },
    "kernelspec": {
      "name": "python3",
      "display_name": "Python 3"
    },
    "language_info": {
      "name": "python"
    }
  },
  "cells": [
    {
      "cell_type": "markdown",
      "metadata": {
        "id": "view-in-github",
        "colab_type": "text"
      },
      "source": [
        "<a href=\"https://colab.research.google.com/github/abm4github/IITM_programmingDataStructures_CodingRound/blob/main/MinCoins.ipynb\" target=\"_parent\"><img src=\"https://colab.research.google.com/assets/colab-badge.svg\" alt=\"Open In Colab\"/></a>"
      ]
    },
    {
      "cell_type": "code",
      "execution_count": 2,
      "metadata": {
        "id": "5_yu2qyIHvI-"
      },
      "outputs": [],
      "source": [
        "# finding minimum number of coins\n",
        "# we can minimize the cost using memoization\n",
        "# we can initialise result to intmax\n",
        "\n",
        "\n",
        "def minCoins(coins, V):\n",
        "  result = float('inf')\n",
        "  if V == 0:\n",
        "    return 0\n",
        "  for i in coins:\n",
        "    if V-i >= 0:\n",
        "      subresult  = minCoins(coins, V-i)\n",
        "      if subresult+1 < result:\n",
        "        result = subresult+1   \n",
        "  if result != 10000:\n",
        "    return result\n",
        "  else:\n",
        "    return -1\n"
      ]
    },
    {
      "cell_type": "code",
      "source": [
        "coins = [5,10,25]\n",
        "V = 60\n",
        "minCoins(coins, V)"
      ],
      "metadata": {
        "colab": {
          "base_uri": "https://localhost:8080/"
        },
        "id": "CpgLR61FjYOX",
        "outputId": "9c2a43ed-6293-480f-c390-6429dd212556"
      },
      "execution_count": 4,
      "outputs": [
        {
          "output_type": "execute_result",
          "data": {
            "text/plain": [
              "3"
            ]
          },
          "metadata": {},
          "execution_count": 4
        }
      ]
    },
    {
      "cell_type": "code",
      "source": [
        "coins = [5,10,25]\n",
        "V = 30\n",
        "minCoins(coins, V)"
      ],
      "metadata": {
        "colab": {
          "base_uri": "https://localhost:8080/"
        },
        "id": "wTVO-WDnjYy6",
        "outputId": "d7c3ceff-c1d4-4ed1-a1f3-9348012e4bd0"
      },
      "execution_count": 5,
      "outputs": [
        {
          "output_type": "execute_result",
          "data": {
            "text/plain": [
              "2"
            ]
          },
          "metadata": {},
          "execution_count": 5
        }
      ]
    },
    {
      "cell_type": "code",
      "source": [
        "coins = [9,6,5,1,11]\n",
        "V = 11\n",
        "minCoins(coins, V)"
      ],
      "metadata": {
        "colab": {
          "base_uri": "https://localhost:8080/"
        },
        "id": "9QP9Ch1cjnuk",
        "outputId": "1275454b-6efe-4cbc-add5-3ec1ce1be932"
      },
      "execution_count": 6,
      "outputs": [
        {
          "output_type": "execute_result",
          "data": {
            "text/plain": [
              "1"
            ]
          },
          "metadata": {},
          "execution_count": 6
        }
      ]
    }
  ]
}