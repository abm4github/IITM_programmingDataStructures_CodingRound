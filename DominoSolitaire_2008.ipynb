{
  "nbformat": 4,
  "nbformat_minor": 0,
  "metadata": {
    "colab": {
      "provenance": [],
      "authorship_tag": "ABX9TyOmZB6dTATsLqdGASHQAcy8",
      "include_colab_link": true
    },
    "kernelspec": {
      "name": "python3",
      "display_name": "Python 3"
    },
    "language_info": {
      "name": "python"
    }
  },
  "cells": [
    {
      "cell_type": "markdown",
      "metadata": {
        "id": "view-in-github",
        "colab_type": "text"
      },
      "source": [
        "<a href=\"https://colab.research.google.com/github/abm4github/IITM_programmingDataStructures_CodingRound/blob/main/DominoSolitaire_2008.ipynb\" target=\"_parent\"><img src=\"https://colab.research.google.com/assets/colab-badge.svg\" alt=\"Open In Colab\"/></a>"
      ]
    },
    {
      "cell_type": "code",
      "source": [
        "def solveSolitaire(n, l1, l2):\n",
        "    if n == 0:\n",
        "        return (0)\n",
        "    ans = [0 for i in range(n+1)]\n",
        "    ans[n - 1] = max(l1[n - 1], l2[n - 1]) - min(l1[n - 1], l2[n - 1])\n",
        "    for i in range(n - 2, -1, -1):\n",
        "        vert = max(l1[i], l2[i]) - min(l1[i], l2[i]) + ans[i + 1]\n",
        "        horz = max(l1[i], l1[i + 1]) - min(l1[i], l1[i + 1]) + max(l2[i], l2[i + 1]) - min(l2[i], l2[i + 1]) + ans[i + 2]\n",
        "        ans[i] = max(vert, horz)\n",
        "    return (ans[0])"
      ],
      "metadata": {
        "id": "TJynK9nMs3EH"
      },
      "execution_count": 32,
      "outputs": []
    },
    {
      "cell_type": "code",
      "source": [
        "n = 4\n",
        "line1 = [8, 6, 2, 3]\n",
        "line2 = [9, 7, 1, 2]\n",
        "\n",
        "print(solveSolitaire(n, line1, line2))"
      ],
      "metadata": {
        "colab": {
          "base_uri": "https://localhost:8080/"
        },
        "id": "U9yfglvIvvQL",
        "outputId": "e358baa2-404a-4c80-900d-9abfef917513"
      },
      "execution_count": 33,
      "outputs": [
        {
          "output_type": "stream",
          "name": "stdout",
          "text": [
            "12\n"
          ]
        }
      ]
    },
    {
      "cell_type": "code",
      "source": [
        "n = int(input())\n",
        "line1 = input().split()\n",
        "line2 = input().split()\n",
        "\n",
        "for i in range(n):\n",
        "    line1[i] = int(line1[i])\n",
        "    line2[i] = int(line2[i])\n",
        "\n",
        "print(solveSolitaire(n, line1, line2))\n",
        "\n",
        "#4 \n",
        "#8 6 2 3 \n",
        "#9 7 1 2"
      ],
      "metadata": {
        "colab": {
          "base_uri": "https://localhost:8080/"
        },
        "id": "3h5adWiWqOTy",
        "outputId": "9f314d7c-8756-406d-a9ee-428bad9c5dd9"
      },
      "execution_count": 28,
      "outputs": [
        {
          "output_type": "stream",
          "name": "stdout",
          "text": [
            "4\n",
            "8 6 2 3\n",
            "9 7 1 2\n",
            "12\n"
          ]
        }
      ]
    },
    {
      "cell_type": "code",
      "source": [
        "n = int(input())\n",
        "line1 = input().split()\n",
        "line2 = input().split()\n",
        "\n",
        "for i in range(n):\n",
        "    line1[i] = int(line1[i])\n",
        "    line2[i] = int(line2[i])\n",
        "\n",
        "print(solveSolitaire(n, line1, line2))\n",
        "#40 58 60 24 88 91\n",
        "#43 29 97 25 16 78"
      ],
      "metadata": {
        "colab": {
          "base_uri": "https://localhost:8080/"
        },
        "id": "SrwmeulwuQjq",
        "outputId": "acb0d001-891f-4d50-c126-e6d6065121b1"
      },
      "execution_count": 29,
      "outputs": [
        {
          "output_type": "stream",
          "name": "stdout",
          "text": [
            "6\n",
            "40 58 60 24 88 91\n",
            "43 29 97 25 16 78\n",
            "225\n"
          ]
        }
      ]
    }
  ]
}