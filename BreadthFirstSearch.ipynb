{
  "nbformat": 4,
  "nbformat_minor": 0,
  "metadata": {
    "colab": {
      "provenance": [],
      "authorship_tag": "ABX9TyOu2bHkyfvG2jKPGByIBBaX",
      "include_colab_link": true
    },
    "kernelspec": {
      "name": "python3",
      "display_name": "Python 3"
    },
    "language_info": {
      "name": "python"
    }
  },
  "cells": [
    {
      "cell_type": "markdown",
      "metadata": {
        "id": "view-in-github",
        "colab_type": "text"
      },
      "source": [
        "<a href=\"https://colab.research.google.com/github/abm4github/IITM_programmingDataStructures_CodingRound/blob/main/BreadthFirstSearch.ipynb\" target=\"_parent\"><img src=\"https://colab.research.google.com/assets/colab-badge.svg\" alt=\"Open In Colab\"/></a>"
      ]
    },
    {
      "cell_type": "markdown",
      "source": [
        "Showing traversal in Breadth First Search (BFS)"
      ],
      "metadata": {
        "id": "CIpJXu8jRwZ4"
      }
    },
    {
      "cell_type": "code",
      "execution_count": 45,
      "metadata": {
        "id": "NZ9ztjRKGBfc"
      },
      "outputs": [],
      "source": [
        "def bfsAList(AList, start):\n",
        "  visited = {}\n",
        "  parent = {}\n",
        "  traverseList = []\n",
        "  for i in AList.keys():\n",
        "    visited[i] = False\n",
        "    if i == start:\n",
        "      visited[i] == True\n",
        "    parent[i] = -1\n",
        "  queue = [start]\n",
        "  while queue != []:\n",
        "    for v in AList[queue[0]]:\n",
        "      if not visited[v]:\n",
        "        queue.append(v)\n",
        "        if parent[v] == -1:\n",
        "          parent[v] = queue[0]\n",
        "    visited[queue[0]] = True\n",
        "    traverseList.append(queue[0])\n",
        "    queue.pop(0)\n",
        "  return(traverseList)"
      ]
    },
    {
      "cell_type": "code",
      "source": [
        "start = 8\n",
        "AList = {0: [8],8: [0, 9],1: [3, 5, 8],3: [1, 7, 2],5: [4],2: [8, 9],9: [1],7: [8],4: [2, 6],6: [9]}\n",
        "bfsAList(AList, start)"
      ],
      "metadata": {
        "colab": {
          "base_uri": "https://localhost:8080/"
        },
        "id": "ioocAdfVJI8i",
        "outputId": "89ee82b8-8643-4b77-8610-201b49b44b9b"
      },
      "execution_count": 46,
      "outputs": [
        {
          "output_type": "execute_result",
          "data": {
            "text/plain": [
              "[8, 0, 9, 1, 3, 5, 7, 2, 4, 6]"
            ]
          },
          "metadata": {},
          "execution_count": 46
        }
      ]
    },
    {
      "cell_type": "code",
      "source": [
        "start = 0\n",
        "AList = {0: [8],8: [0, 9],1: [3, 5, 8],3: [1, 7, 2],5: [4],2: [8, 9],9: [1],7: [8],4: [2, 6],6: [9]}\n",
        "bfsAList(AList, start)"
      ],
      "metadata": {
        "colab": {
          "base_uri": "https://localhost:8080/"
        },
        "id": "E9E2VPpPRoHo",
        "outputId": "bf7d1df9-aefd-4bda-d7d9-43353a92e2b7"
      },
      "execution_count": 47,
      "outputs": [
        {
          "output_type": "execute_result",
          "data": {
            "text/plain": [
              "[0, 8, 9, 1, 3, 5, 7, 2, 4, 6]"
            ]
          },
          "metadata": {},
          "execution_count": 47
        }
      ]
    }
  ]
}