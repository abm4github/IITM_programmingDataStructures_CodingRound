{
  "nbformat": 4,
  "nbformat_minor": 0,
  "metadata": {
    "colab": {
      "provenance": [],
      "authorship_tag": "ABX9TyPjvK6VIopDsSTRrKKQTxNq",
      "include_colab_link": true
    },
    "kernelspec": {
      "name": "python3",
      "display_name": "Python 3"
    },
    "language_info": {
      "name": "python"
    }
  },
  "cells": [
    {
      "cell_type": "markdown",
      "metadata": {
        "id": "view-in-github",
        "colab_type": "text"
      },
      "source": [
        "<a href=\"https://colab.research.google.com/github/abm4github/IITM_programmingDataStructures_CodingRound/blob/main/MinCoins.ipynb\" target=\"_parent\"><img src=\"https://colab.research.google.com/assets/colab-badge.svg\" alt=\"Open In Colab\"/></a>"
      ]
    },
    {
      "cell_type": "code",
      "execution_count": 21,
      "metadata": {
        "id": "5_yu2qyIHvI-"
      },
      "outputs": [],
      "source": [
        "# finding minimum number of coins\n",
        "# we can minimize the cost using memoization\n",
        "# we can initialise result to intmax\n",
        "\n",
        "result = 10000\n",
        "def minCoins(coins, V,result):\n",
        "  if V == 0:\n",
        "    return 0\n",
        "  for i in coins:\n",
        "    if V-i >= 0:\n",
        "      subresult  = minCoins(coins, V-i,result)\n",
        "      if subresult+1 < result:\n",
        "        result = subresult+1   \n",
        "  if result != 10000:\n",
        "    return result\n",
        "  else:\n",
        "    return -1\n"
      ]
    },
    {
      "cell_type": "code",
      "source": [
        "coins = [5,10,25]\n",
        "V = 60\n",
        "minCoins(coins, V,result)"
      ],
      "metadata": {
        "colab": {
          "base_uri": "https://localhost:8080/"
        },
        "id": "CpgLR61FjYOX",
        "outputId": "703911f6-1d0b-451f-ca23-4fc308da5044"
      },
      "execution_count": 22,
      "outputs": [
        {
          "output_type": "execute_result",
          "data": {
            "text/plain": [
              "3"
            ]
          },
          "metadata": {},
          "execution_count": 22
        }
      ]
    },
    {
      "cell_type": "code",
      "source": [
        "coins = [5,10,25]\n",
        "V = 30\n",
        "minCoins(coins, V, result)"
      ],
      "metadata": {
        "colab": {
          "base_uri": "https://localhost:8080/"
        },
        "id": "wTVO-WDnjYy6",
        "outputId": "6841de83-f72c-40a9-d84c-7ff5c2003074"
      },
      "execution_count": 14,
      "outputs": [
        {
          "output_type": "execute_result",
          "data": {
            "text/plain": [
              "2"
            ]
          },
          "metadata": {},
          "execution_count": 14
        }
      ]
    },
    {
      "cell_type": "code",
      "source": [
        "coins = [9,6,5,1,11]\n",
        "V = 11\n",
        "minCoins(coins, V, result)"
      ],
      "metadata": {
        "colab": {
          "base_uri": "https://localhost:8080/"
        },
        "id": "9QP9Ch1cjnuk",
        "outputId": "1ae076f0-5258-433a-a01e-aaccb7fe5e50"
      },
      "execution_count": 15,
      "outputs": [
        {
          "output_type": "execute_result",
          "data": {
            "text/plain": [
              "1"
            ]
          },
          "metadata": {},
          "execution_count": 15
        }
      ]
    },
    {
      "cell_type": "code",
      "source": [],
      "metadata": {
        "id": "pKQz-QQYjzkt"
      },
      "execution_count": null,
      "outputs": []
    }
  ]
}