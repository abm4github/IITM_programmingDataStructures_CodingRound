{
  "nbformat": 4,
  "nbformat_minor": 0,
  "metadata": {
    "colab": {
      "provenance": [],
      "authorship_tag": "ABX9TyOTC8F1N4AbshHVpA7XplP0",
      "include_colab_link": true
    },
    "kernelspec": {
      "name": "python3",
      "display_name": "Python 3"
    },
    "language_info": {
      "name": "python"
    }
  },
  "cells": [
    {
      "cell_type": "markdown",
      "metadata": {
        "id": "view-in-github",
        "colab_type": "text"
      },
      "source": [
        "<a href=\"https://colab.research.google.com/github/abm4github/IITM_programmingDataStructures_CodingRound/blob/main/PairSum.ipynb\" target=\"_parent\"><img src=\"https://colab.research.google.com/assets/colab-badge.svg\" alt=\"Open In Colab\"/></a>"
      ]
    },
    {
      "cell_type": "markdown",
      "source": [
        "confirm if the integer pairSum exists in list L as a sum of any two of its elements."
      ],
      "metadata": {
        "id": "Vuz1OmfZFyM1"
      }
    },
    {
      "cell_type": "code",
      "execution_count": 4,
      "metadata": {
        "id": "ybSXZRtxjHo3"
      },
      "outputs": [],
      "source": [
        "def binarySearch(L, i, q):\n",
        "  n = len(L)\n",
        "  if n < 1:\n",
        "    return False\n",
        "  s = 0\n",
        "  e = n - 1\n",
        "  while s <= e:\n",
        "    mid = (s+e)//2\n",
        "    if L[mid] == i and mid != q:\n",
        "      return True\n",
        "    elif L[mid] > i:\n",
        "      e = mid -1\n",
        "    else:\n",
        "      s = mid + 1\n",
        "  return False\n",
        "\n",
        "def findPair(L, pairSum):\n",
        "  L.sort()\n",
        "  n = len(L)\n",
        "  for q in range(n):\n",
        "    if binarySearch(L, pairSum-L[q], q) :\n",
        "      return True\n",
        "  return False"
      ]
    },
    {
      "cell_type": "code",
      "source": [
        "findPair([10, 4, 11, 5, 1, 8, 7], 21)"
      ],
      "metadata": {
        "colab": {
          "base_uri": "https://localhost:8080/"
        },
        "id": "wwitN4i0AZnl",
        "outputId": "6334ab68-cc19-4ca5-86a9-bbc7a7f6237f"
      },
      "execution_count": 5,
      "outputs": [
        {
          "output_type": "execute_result",
          "data": {
            "text/plain": [
              "True"
            ]
          },
          "metadata": {},
          "execution_count": 5
        }
      ]
    },
    {
      "cell_type": "code",
      "source": [
        "findPair([10, 4, 11, 5, 1, 8, 7], 2)"
      ],
      "metadata": {
        "colab": {
          "base_uri": "https://localhost:8080/"
        },
        "id": "5InURUSGAkUL",
        "outputId": "37e9c997-3d4c-468f-d510-cbab2c22aef6"
      },
      "execution_count": 6,
      "outputs": [
        {
          "output_type": "execute_result",
          "data": {
            "text/plain": [
              "False"
            ]
          },
          "metadata": {},
          "execution_count": 6
        }
      ]
    },
    {
      "cell_type": "code",
      "source": [
        "findPair([3825, 29286, 12635, 73450, 69276, 1052, 67615, 27144, 32660], 3825)"
      ],
      "metadata": {
        "colab": {
          "base_uri": "https://localhost:8080/"
        },
        "id": "vVToj3wwCjCu",
        "outputId": "3c4e59df-f68c-42fa-b40e-885748320c81"
      },
      "execution_count": 7,
      "outputs": [
        {
          "output_type": "execute_result",
          "data": {
            "text/plain": [
              "False"
            ]
          },
          "metadata": {},
          "execution_count": 7
        }
      ]
    },
    {
      "cell_type": "code",
      "source": [
        "findPair([3825, 29286, 12635, 73450, 69276, 1052, 67615, 27144, 32660], 33111)"
      ],
      "metadata": {
        "colab": {
          "base_uri": "https://localhost:8080/"
        },
        "id": "L-PmJN-_Clqh",
        "outputId": "e7f56a78-d2fc-477b-edf6-7d77cdc4e7a1"
      },
      "execution_count": 8,
      "outputs": [
        {
          "output_type": "execute_result",
          "data": {
            "text/plain": [
              "True"
            ]
          },
          "metadata": {},
          "execution_count": 8
        }
      ]
    },
    {
      "cell_type": "code",
      "source": [
        "findPair([3825, 29286, 12635, 73450, 69276, 1052, 67615, 27144, 32660], 102736)"
      ],
      "metadata": {
        "colab": {
          "base_uri": "https://localhost:8080/"
        },
        "id": "MuSB-Hw1Cm2n",
        "outputId": "11acf965-fe2c-4f53-ba92-2e844472d605"
      },
      "execution_count": 9,
      "outputs": [
        {
          "output_type": "execute_result",
          "data": {
            "text/plain": [
              "True"
            ]
          },
          "metadata": {},
          "execution_count": 9
        }
      ]
    },
    {
      "cell_type": "code",
      "source": [
        "findPair([7625, 33422, 45912, 24600, 38030, 64596, 35281, 49247, 808, 45679, 38388, 37078, 7997,\n",
        "43351, 81537, 87537, 17318, 9801], 41047)"
      ],
      "metadata": {
        "colab": {
          "base_uri": "https://localhost:8080/"
        },
        "id": "DlDuFRU_Cnb5",
        "outputId": "ad5a1578-6761-4cac-ad9c-9359c95017e3"
      },
      "execution_count": 10,
      "outputs": [
        {
          "output_type": "execute_result",
          "data": {
            "text/plain": [
              "True"
            ]
          },
          "metadata": {},
          "execution_count": 10
        }
      ]
    },
    {
      "cell_type": "code",
      "source": [
        "findPair([7625, 33422, 45912, 24600, 38030, 64596, 35281, 49247, 808, 45679, 38388, 37078, 7997,\n",
        "43351, 81537, 87537, 17318, 9801], 79334)"
      ],
      "metadata": {
        "colab": {
          "base_uri": "https://localhost:8080/"
        },
        "id": "Pr1mdfFhCn7d",
        "outputId": "a99f5c63-f76b-4d32-bee8-194d8768c8e4"
      },
      "execution_count": 11,
      "outputs": [
        {
          "output_type": "execute_result",
          "data": {
            "text/plain": [
              "True"
            ]
          },
          "metadata": {},
          "execution_count": 11
        }
      ]
    },
    {
      "cell_type": "code",
      "source": [
        "findPair([7625, 33422, 45912, 24600, 38030, 64596, 35281, 49247, 808, 45679, 38388, 37078, 7997,\n",
        "43351, 81537, 87537, 17318, 9801], 71452)"
      ],
      "metadata": {
        "id": "4go83YACDI3f"
      },
      "execution_count": null,
      "outputs": []
    },
    {
      "cell_type": "code",
      "source": [
        "findPair([7625, 33422, 45912, 24600, 38030, 64596, 35281, 49247, 808, 45679, 38388, 37078, 7997,\n",
        "43351, 81537, 87537, 17318, 9801, 57304, 41499, 75008, 80402, 15792, 8367, 28861, 10894,\n",
        "26350, 27407, 99522, 30410, 89571, 41049, 97045, 83297, 26106, 70244, 48446, 61643, 77322,\n",
        "62453, 70568, 77003, 84457, 52794, 6887, 21907, 28722, 38845, 2772, 20660, 54014, 77490,\n",
        "85218], 42168)"
      ],
      "metadata": {
        "colab": {
          "base_uri": "https://localhost:8080/"
        },
        "id": "AFLEC20VDJeB",
        "outputId": "33332e98-e245-4d70-9387-b2618630198d"
      },
      "execution_count": 12,
      "outputs": [
        {
          "output_type": "execute_result",
          "data": {
            "text/plain": [
              "True"
            ]
          },
          "metadata": {},
          "execution_count": 12
        }
      ]
    },
    {
      "cell_type": "code",
      "source": [
        "findPair([7625, 33422, 45912, 24600, 38030, 64596, 35281, 49247, 808, 45679, 38388, 37078, 7997,\n",
        "43351, 81537, 87537, 17318, 9801, 57304, 41499, 75008, 80402, 15792, 8367, 28861, 10894,\n",
        "26350, 27407, 99522, 30410, 89571, 41049, 97045, 83297, 26106, 70244, 48446, 61643, 77322,\n",
        "62453, 70568, 77003, 84457, 52794, 6887, 21907, 28722, 38845, 2772, 20660, 54014, 77490,\n",
        "85218], 42000)"
      ],
      "metadata": {
        "colab": {
          "base_uri": "https://localhost:8080/"
        },
        "id": "Dpo-_TdKDJ8l",
        "outputId": "21aedc98-39cb-47b1-c4af-73ea7ede3703"
      },
      "execution_count": 13,
      "outputs": [
        {
          "output_type": "execute_result",
          "data": {
            "text/plain": [
              "False"
            ]
          },
          "metadata": {},
          "execution_count": 13
        }
      ]
    }
  ]
}