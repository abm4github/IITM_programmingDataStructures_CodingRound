{
  "nbformat": 4,
  "nbformat_minor": 0,
  "metadata": {
    "colab": {
      "provenance": [],
      "authorship_tag": "ABX9TyM1NaA8753dF/8mArFb3k18",
      "include_colab_link": true
    },
    "kernelspec": {
      "name": "python3",
      "display_name": "Python 3"
    },
    "language_info": {
      "name": "python"
    }
  },
  "cells": [
    {
      "cell_type": "markdown",
      "metadata": {
        "id": "view-in-github",
        "colab_type": "text"
      },
      "source": [
        "<a href=\"https://colab.research.google.com/github/abm4github/IITM_programmingDataStructures_CodingRound/blob/main/MinCoins.ipynb\" target=\"_parent\"><img src=\"https://colab.research.google.com/assets/colab-badge.svg\" alt=\"Open In Colab\"/></a>"
      ]
    },
    {
      "cell_type": "code",
      "execution_count": 11,
      "metadata": {
        "colab": {
          "base_uri": "https://localhost:8080/"
        },
        "id": "5_yu2qyIHvI-",
        "outputId": "6383b7df-7a70-4903-fe62-7e36bdb81d28"
      },
      "outputs": [
        {
          "output_type": "execute_result",
          "data": {
            "text/plain": [
              "3"
            ]
          },
          "metadata": {},
          "execution_count": 11
        }
      ],
      "source": [
        "# finding minimum number of coins\n",
        "# we can minimize the cost using memoization\n",
        "# we can initialise result to intmax\n",
        "\n",
        "result = 10000\n",
        "def minCoins(coins, V, result):\n",
        "  if V == 0:\n",
        "    return 0\n",
        "  for i in coins:\n",
        "    if V-i >= 0:\n",
        "      subresult  = minCoins(coins, V-i,result)\n",
        "      if subresult+1 < result:\n",
        "        result = subresult+1   \n",
        "  if result != 10000:\n",
        "    return result\n",
        "  else:\n",
        "    return -1\n",
        "\n",
        "coins = [5,10,25]\n",
        "V = 60\n",
        "minCoins(coins, V, result)"
      ]
    }
  ]
}