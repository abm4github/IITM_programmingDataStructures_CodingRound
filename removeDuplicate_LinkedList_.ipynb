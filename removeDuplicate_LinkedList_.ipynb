{
  "nbformat": 4,
  "nbformat_minor": 0,
  "metadata": {
    "colab": {
      "provenance": [],
      "authorship_tag": "ABX9TyO+/ULW2kruUvGSe+zeW7+S",
      "include_colab_link": true
    },
    "kernelspec": {
      "name": "python3",
      "display_name": "Python 3"
    },
    "language_info": {
      "name": "python"
    }
  },
  "cells": [
    {
      "cell_type": "markdown",
      "metadata": {
        "id": "view-in-github",
        "colab_type": "text"
      },
      "source": [
        "<a href=\"https://colab.research.google.com/github/abm4github/IITM_programmingDataStructures_CodingRound/blob/main/removeDuplicate_LinkedList_.ipynb\" target=\"_parent\"><img src=\"https://colab.research.google.com/assets/colab-badge.svg\" alt=\"Open In Colab\"/></a>"
      ]
    },
    {
      "cell_type": "code",
      "execution_count": null,
      "metadata": {
        "id": "AnyaZ7x2VwF6"
      },
      "outputs": [],
      "source": [
        "# this code may or may not work, modifications need to be made as per internal code and errors we receive\n",
        "# will try to improve this\n",
        "\n",
        "def removeDuplicate(head):\n",
        "    if (head == None and head.next == None):\n",
        "        return\n",
        "    \n",
        "    a = head\n",
        "    while a.next:\n",
        "        if a.data == a.next.data:\n",
        "            a.next = a.next.next\n",
        "        else:\n",
        "            a = a.next\n",
        "    return"
      ]
    }
  ]
}