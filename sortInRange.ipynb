{
  "nbformat": 4,
  "nbformat_minor": 0,
  "metadata": {
    "colab": {
      "provenance": [],
      "authorship_tag": "ABX9TyOnMRimBF7ML/nWzJn19ozw",
      "include_colab_link": true
    },
    "kernelspec": {
      "name": "python3",
      "display_name": "Python 3"
    },
    "language_info": {
      "name": "python"
    }
  },
  "cells": [
    {
      "cell_type": "markdown",
      "metadata": {
        "id": "view-in-github",
        "colab_type": "text"
      },
      "source": [
        "<a href=\"https://colab.research.google.com/github/abm4github/IITM_programmingDataStructures_CodingRound/blob/main/sortInRange.ipynb\" target=\"_parent\"><img src=\"https://colab.research.google.com/assets/colab-badge.svg\" alt=\"Open In Colab\"/></a>"
      ]
    },
    {
      "cell_type": "markdown",
      "source": [
        "we are provided with a list(L) of n elements and an integer r, each element of the list in range [0,r). sort it \"in place\" with the complexity O(n+r)"
      ],
      "metadata": {
        "id": "firjGZyoRVwE"
      }
    },
    {
      "cell_type": "code",
      "execution_count": 7,
      "metadata": {
        "id": "zVTUzp2eQ5gJ"
      },
      "outputs": [],
      "source": [
        "# sorted L in-place, by replacing elements in L, without using additional space\n",
        "\n",
        "def sortInRange(L,r):\n",
        "  dict = {}\n",
        "  for i in L:\n",
        "    if i not in dict.keys():\n",
        "      dict[i] = 0\n",
        "    dict[i] += 1\n",
        "  n = 0\n",
        "  for j in sorted(dict.keys()):\n",
        "    for times in range(dict[j]):\n",
        "      L[n] = j\n",
        "      n += 1\n",
        "  return L # return statement is not required, if we are asked not to return L"
      ]
    },
    {
      "cell_type": "code",
      "source": [
        "L = [2,0,1,1,2,3,0,2,1,0,2,3,1,2]\n",
        "r = 4\n",
        "sortInRange(L,r)"
      ],
      "metadata": {
        "colab": {
          "base_uri": "https://localhost:8080/"
        },
        "id": "BZpHvnoSSrlH",
        "outputId": "a242f83c-da69-4a8d-a576-2c8e55034988"
      },
      "execution_count": 8,
      "outputs": [
        {
          "output_type": "execute_result",
          "data": {
            "text/plain": [
              "[0, 0, 0, 1, 1, 1, 1, 2, 2, 2, 2, 2, 3, 3]"
            ]
          },
          "metadata": {},
          "execution_count": 8
        }
      ]
    }
  ]
}