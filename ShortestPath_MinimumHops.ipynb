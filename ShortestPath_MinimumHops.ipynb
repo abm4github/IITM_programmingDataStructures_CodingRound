{
  "nbformat": 4,
  "nbformat_minor": 0,
  "metadata": {
    "colab": {
      "provenance": [],
      "authorship_tag": "ABX9TyN05dVIdZos0npUgZKIyLJB",
      "include_colab_link": true
    },
    "kernelspec": {
      "name": "python3",
      "display_name": "Python 3"
    },
    "language_info": {
      "name": "python"
    }
  },
  "cells": [
    {
      "cell_type": "markdown",
      "metadata": {
        "id": "view-in-github",
        "colab_type": "text"
      },
      "source": [
        "<a href=\"https://colab.research.google.com/github/abm4github/IITM_programmingDataStructures_CodingRound/blob/main/ShortestPath_MinimumHops.ipynb\" target=\"_parent\"><img src=\"https://colab.research.google.com/assets/colab-badge.svg\" alt=\"Open In Colab\"/></a>"
      ]
    },
    {
      "cell_type": "markdown",
      "source": [
        "find the minimum number of hops and shortest path between given two vertices using adjacency list"
      ],
      "metadata": {
        "id": "t8Qzoam2_Z2C"
      }
    },
    {
      "cell_type": "code",
      "execution_count": 35,
      "metadata": {
        "id": "U9gNX4qtmVXI"
      },
      "outputs": [],
      "source": [
        "# finding shortest path using adjacency list\n",
        "\n",
        "def minimumhops(AList, start, end):\n",
        "  hops = 1\n",
        "  queue = [start]\n",
        "  explored = {}\n",
        "  previous = {}\n",
        "  l = []\n",
        "  for i in AList.keys():\n",
        "    explored[i] = False\n",
        "    previous[i] = -1\n",
        "\n",
        "  while queue != []:\n",
        "    for j in AList[queue[0]]:\n",
        "      if explored[j] == False:\n",
        "        queue.append(j)\n",
        "        if previous[j] == -1:\n",
        "          previous[j] = queue[0]\n",
        "        if j == end:\n",
        "          while end != start:\n",
        "            l = [end] + l\n",
        "            end = previous[end]\n",
        "          l = [start] + l\n",
        "          return hops, l\n",
        "      if j == AList[queue[0]][-1]:\n",
        "        explored[queue[0]] = True\n",
        "        hops += 1\n",
        "        queue.pop(0)\n",
        "  return [start]\n",
        "      "
      ]
    },
    {
      "cell_type": "code",
      "source": [
        "start = 8\n",
        "end = 0\n",
        "AList = {0: [8],8: [9],1: [3, 5, 8],3: [1, 7, 2],5: [4],2: [8, 9],9: [1],7: [8],4: [2, 6],6: [9]}\n",
        "minimumhops(AList, start, end)"
      ],
      "metadata": {
        "colab": {
          "base_uri": "https://localhost:8080/"
        },
        "id": "41KexazStSPh",
        "outputId": "4e1d733b-f784-4fda-a3fa-7d4649209ae9"
      },
      "execution_count": 36,
      "outputs": [
        {
          "output_type": "execute_result",
          "data": {
            "text/plain": [
              "[8]"
            ]
          },
          "metadata": {},
          "execution_count": 36
        }
      ]
    },
    {
      "cell_type": "code",
      "source": [
        "start = 8\n",
        "end = 7\n",
        "AList = {0: [8],8: [0, 9],1: [3, 5, 8],3: [1, 7, 2],5: [4],2: [8, 9],9: [1],7: [8],4: [2, 6],6: [9]}\n",
        "minimumhops(AList, start, end)"
      ],
      "metadata": {
        "colab": {
          "base_uri": "https://localhost:8080/"
        },
        "id": "HW2H-oNDtSS-",
        "outputId": "140a9ea8-5d6d-40fe-9cff-954848da88a4"
      },
      "execution_count": 37,
      "outputs": [
        {
          "output_type": "execute_result",
          "data": {
            "text/plain": [
              "(5, [8, 9, 1, 3, 7])"
            ]
          },
          "metadata": {},
          "execution_count": 37
        }
      ]
    },
    {
      "cell_type": "code",
      "source": [
        "start = 0\n",
        "end = 1\n",
        "AList = {0: [1], 1: [2], 2: [3], 3: [4], 4: [5], 5: [6], 6: [7], 7: [8], 8: [9], 9:\n",
        "[0]}\n",
        "minimumhops(AList, start, end)"
      ],
      "metadata": {
        "colab": {
          "base_uri": "https://localhost:8080/"
        },
        "id": "pkCCaZjMtSOA",
        "outputId": "ac63d99b-310d-4860-9df1-1f966fe29b76"
      },
      "execution_count": 38,
      "outputs": [
        {
          "output_type": "execute_result",
          "data": {
            "text/plain": [
              "(1, [0, 1])"
            ]
          },
          "metadata": {},
          "execution_count": 38
        }
      ]
    },
    {
      "cell_type": "code",
      "source": [
        "start = 1\n",
        "end = 0\n",
        "AList = {0: [1], 1: [2], 2: [3], 3: [4], 4: [5], 5: [6], 6: [7], 7: [8], 8: [9], 9:\n",
        "[0]}\n",
        "minimumhops(AList, start, end)"
      ],
      "metadata": {
        "colab": {
          "base_uri": "https://localhost:8080/"
        },
        "id": "CwMGOQzhtSMQ",
        "outputId": "281c19a5-1c5f-4445-ea0c-e4ebc5946209"
      },
      "execution_count": 39,
      "outputs": [
        {
          "output_type": "execute_result",
          "data": {
            "text/plain": [
              "(9, [1, 2, 3, 4, 5, 6, 7, 8, 9, 0])"
            ]
          },
          "metadata": {},
          "execution_count": 39
        }
      ]
    },
    {
      "cell_type": "code",
      "source": [
        "# wrong\n",
        "\n",
        "start = 1\n",
        "end = 0\n",
        "AList = {0: [1], 1: [2, 3], 2: [3, 4], 3: [4, 5], 4: [5, 6], 5: [6, 7], 6: [7, 8], 7:\n",
        "[8, 9], 8: [9, 0], 9: [0]}\n",
        "minimumhops(AList, start, end)"
      ],
      "metadata": {
        "colab": {
          "base_uri": "https://localhost:8080/"
        },
        "id": "qm-zjvL1tSKT",
        "outputId": "00575d6f-5ad8-4546-cded-50f5550ee145"
      },
      "execution_count": 40,
      "outputs": [
        {
          "output_type": "execute_result",
          "data": {
            "text/plain": [
              "(22, [1, 2, 4, 6, 8, 0])"
            ]
          },
          "metadata": {},
          "execution_count": 40
        }
      ]
    },
    {
      "cell_type": "code",
      "source": [
        "# wrong, [1, 2, 4, 6, 8, 0] is the answer\n",
        "\n",
        "start = 1\n",
        "end = 0\n",
        "AList = {0: [1], 1: [2, 3, 4], 2: [3, 4, 5], 3: [4, 5, 6], 4: [5, 6, 7], 5: [6, 7,\n",
        "8], 6: [7, 8, 9], 7: [8, 9, 0], 8: [9, 0], 9: [0]} \n",
        "minimumhops(AList, start, end)"
      ],
      "metadata": {
        "colab": {
          "base_uri": "https://localhost:8080/"
        },
        "id": "Oqm9_Vo_tSIK",
        "outputId": "31675a1f-d1cb-482a-db1b-dcc29dd17c2c"
      },
      "execution_count": 41,
      "outputs": [
        {
          "output_type": "execute_result",
          "data": {
            "text/plain": [
              "(13, [1, 4, 7, 0])"
            ]
          },
          "metadata": {},
          "execution_count": 41
        }
      ]
    }
  ]
}