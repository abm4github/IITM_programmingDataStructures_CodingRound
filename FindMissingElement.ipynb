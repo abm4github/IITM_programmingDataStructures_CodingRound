{
  "nbformat": 4,
  "nbformat_minor": 0,
  "metadata": {
    "colab": {
      "provenance": [],
      "authorship_tag": "ABX9TyOEsZ/MpuAeT8LNj5A7OlbU",
      "include_colab_link": true
    },
    "kernelspec": {
      "name": "python3",
      "display_name": "Python 3"
    },
    "language_info": {
      "name": "python"
    }
  },
  "cells": [
    {
      "cell_type": "markdown",
      "metadata": {
        "id": "view-in-github",
        "colab_type": "text"
      },
      "source": [
        "<a href=\"https://colab.research.google.com/github/abm4github/IITM_programmingDataStructures_CodingRound/blob/main/FindMissingElement.ipynb\" target=\"_parent\"><img src=\"https://colab.research.google.com/assets/colab-badge.svg\" alt=\"Open In Colab\"/></a>"
      ]
    },
    {
      "cell_type": "markdown",
      "source": [
        "\n",
        "Find missing number in between the list whose elements are in ascending order ranging from 1 to n\n",
        "*   example: [1,2,3,4,5,7,8,9]; in this 6 is missing, return it\n",
        "*   note 1 if no number is missing return \"-1\"\n",
        "*   note 2: first and last elements would not be missing in any of the list\n",
        "*   note 3: complexity allowed: O(log n)\n"
      ],
      "metadata": {
        "id": "UbZWKIV3EKZ4"
      }
    },
    {
      "cell_type": "code",
      "execution_count": 90,
      "metadata": {
        "id": "RRsBBgGoxeTv"
      },
      "outputs": [],
      "source": [
        "# method 1: recursive call of function\n",
        "def findMissingInt(t):\n",
        "  if len(t) != t[-1]-t[0]+1:\n",
        "    if len(t) < 4:\n",
        "      for i in range(len(t)-1):\n",
        "          if t[i] + 1 != t[i+1]:\n",
        "            return(t[i]+1)\n",
        "    if ((t[0]+t[-1])//2) == (t[len(t)//2]):\n",
        "      return findMissingInt(t[(len(t)//2): ])\n",
        "    else:\n",
        "      return findMissingInt(t[0: (len(t)//2)+1])\n",
        "  return(\"-1\")\n"
      ]
    },
    {
      "cell_type": "markdown",
      "source": [
        "verifying code using various test cases:"
      ],
      "metadata": {
        "id": "ZmvHSWHkGTZ4"
      }
    },
    {
      "cell_type": "markdown",
      "source": [
        "### verifying on odd number of elements"
      ],
      "metadata": {
        "id": "k8yke51sGdvX"
      }
    },
    {
      "cell_type": "code",
      "source": [
        "# if number is missing in the right half\n",
        "t = [1,2,3,4,5,6,7,9]\n",
        "findMissingInt(t)"
      ],
      "metadata": {
        "colab": {
          "base_uri": "https://localhost:8080/"
        },
        "id": "wt-mule2FPBu",
        "outputId": "0c044c52-fa38-4629-bb6d-600d7ec9d5b8"
      },
      "execution_count": 97,
      "outputs": [
        {
          "output_type": "execute_result",
          "data": {
            "text/plain": [
              "8"
            ]
          },
          "metadata": {},
          "execution_count": 97
        }
      ]
    },
    {
      "cell_type": "code",
      "source": [
        "# if number is missing in the left half\n",
        "t = [1,3,4,5,6,7,8,9]\n",
        "findMissingInt(t)"
      ],
      "metadata": {
        "colab": {
          "base_uri": "https://localhost:8080/"
        },
        "id": "OIkgdT6RFPrh",
        "outputId": "a1e3e4cf-10f8-4525-bbeb-deead9adccf0"
      },
      "execution_count": 98,
      "outputs": [
        {
          "output_type": "execute_result",
          "data": {
            "text/plain": [
              "2"
            ]
          },
          "metadata": {},
          "execution_count": 98
        }
      ]
    },
    {
      "cell_type": "code",
      "source": [
        "# if number is missing at the midpoint\n",
        "t = [1,2,3,4,6,7,8,9]\n",
        "findMissingInt(t)"
      ],
      "metadata": {
        "colab": {
          "base_uri": "https://localhost:8080/"
        },
        "id": "KnZslz5lFQI8",
        "outputId": "5b5a608c-227d-402d-e43f-eea7c5f2260c"
      },
      "execution_count": 99,
      "outputs": [
        {
          "output_type": "execute_result",
          "data": {
            "text/plain": [
              "5"
            ]
          },
          "metadata": {},
          "execution_count": 99
        }
      ]
    },
    {
      "cell_type": "markdown",
      "source": [
        "### verifying on even number of elements"
      ],
      "metadata": {
        "id": "Nc6LZliFGmX2"
      }
    },
    {
      "cell_type": "code",
      "source": [
        "# if number is missing in the right half\n",
        "t = [1,2,3,4,5,6,8]\n",
        "findMissingInt(t)"
      ],
      "metadata": {
        "colab": {
          "base_uri": "https://localhost:8080/"
        },
        "outputId": "63dba9b7-d981-4db5-cc33-05dc5fbd2ec0",
        "id": "2wHGDReGF9iY"
      },
      "execution_count": 100,
      "outputs": [
        {
          "output_type": "execute_result",
          "data": {
            "text/plain": [
              "7"
            ]
          },
          "metadata": {},
          "execution_count": 100
        }
      ]
    },
    {
      "cell_type": "code",
      "source": [
        "# if number is missing in the left half\n",
        "t = [1,3,4,5,6,7,8]\n",
        "findMissingInt(t)"
      ],
      "metadata": {
        "colab": {
          "base_uri": "https://localhost:8080/"
        },
        "outputId": "de537aed-b9b9-44c1-aa64-28224968a95a",
        "id": "xx0-4rnGF9iZ"
      },
      "execution_count": 101,
      "outputs": [
        {
          "output_type": "execute_result",
          "data": {
            "text/plain": [
              "2"
            ]
          },
          "metadata": {},
          "execution_count": 101
        }
      ]
    },
    {
      "cell_type": "code",
      "source": [
        "# if number is missing at the midpoint\n",
        "t = [1,2,3,6,7,8]\n",
        "findMissingInt(t)"
      ],
      "metadata": {
        "colab": {
          "base_uri": "https://localhost:8080/"
        },
        "outputId": "b51e4dce-3b2f-42be-ab01-7fcef2bdf966",
        "id": "xt11HeaFF9ia"
      },
      "execution_count": 103,
      "outputs": [
        {
          "output_type": "execute_result",
          "data": {
            "text/plain": [
              "4"
            ]
          },
          "metadata": {},
          "execution_count": 103
        }
      ]
    },
    {
      "cell_type": "code",
      "source": [
        "t = [1,2,3,4,6,7,8]\n",
        "findMissingInt(t)"
      ],
      "metadata": {
        "colab": {
          "base_uri": "https://localhost:8080/"
        },
        "id": "z7197JUsGIpV",
        "outputId": "b486674e-7f0d-4c38-d077-adbbf0e181c3"
      },
      "execution_count": 104,
      "outputs": [
        {
          "output_type": "execute_result",
          "data": {
            "text/plain": [
              "5"
            ]
          },
          "metadata": {},
          "execution_count": 104
        }
      ]
    }
  ]
}