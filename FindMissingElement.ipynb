{
  "nbformat": 4,
  "nbformat_minor": 0,
  "metadata": {
    "colab": {
      "provenance": [],
      "authorship_tag": "ABX9TyOOBeh8td1CwfA70CPs2raJ",
      "include_colab_link": true
    },
    "kernelspec": {
      "name": "python3",
      "display_name": "Python 3"
    },
    "language_info": {
      "name": "python"
    }
  },
  "cells": [
    {
      "cell_type": "markdown",
      "metadata": {
        "id": "view-in-github",
        "colab_type": "text"
      },
      "source": [
        "<a href=\"https://colab.research.google.com/github/abm4github/IITM_programmingDataStructures_CodingRound/blob/main/FindMissingElement.ipynb\" target=\"_parent\"><img src=\"https://colab.research.google.com/assets/colab-badge.svg\" alt=\"Open In Colab\"/></a>"
      ]
    },
    {
      "cell_type": "markdown",
      "source": [
        "\n",
        "Find missing number in between the list whose elements are in ascending order ranging from 1 to n\n",
        "*   example: [1,2,3,4,5,7,8,9]; in this 6 is missing, return it\n",
        "*   note 1 if no number is missing return \"-1\"\n",
        "*   note 2: first and last elements would not be missing in any of the list\n",
        "*   note 3: complexity allowed: O(log n)\n"
      ],
      "metadata": {
        "id": "UbZWKIV3EKZ4"
      }
    },
    {
      "cell_type": "markdown",
      "source": [
        "## method 1: By recursive call of function"
      ],
      "metadata": {
        "id": "_-fXUrzANgDX"
      }
    },
    {
      "cell_type": "code",
      "execution_count": 9,
      "metadata": {
        "id": "RRsBBgGoxeTv"
      },
      "outputs": [],
      "source": [
        "# method 1: recursive call of function\n",
        "def findMissingInt(t):\n",
        "  if len(t) != t[-1]-t[0]+1:\n",
        "    if len(t) < 4:\n",
        "      for i in range(len(t)-1):\n",
        "          if t[i] + 1 != t[i+1]:\n",
        "            return(t[i]+1)\n",
        "    if ((t[0]+t[-1])//2) == (t[len(t)//2]):\n",
        "      return findMissingInt(t[(len(t)//2): ])\n",
        "    else:\n",
        "      return findMissingInt(t[0: (len(t)//2)+1])\n",
        "  return(\"-1\")\n"
      ]
    },
    {
      "cell_type": "markdown",
      "source": [
        "verifying code using various test cases:"
      ],
      "metadata": {
        "id": "ZmvHSWHkGTZ4"
      }
    },
    {
      "cell_type": "markdown",
      "source": [
        "### verifying on odd number of elements"
      ],
      "metadata": {
        "id": "k8yke51sGdvX"
      }
    },
    {
      "cell_type": "code",
      "source": [
        "# if no number is missing\n",
        "t = [1,2,3,4,5,6,7,8,9]\n",
        "findMissingInt(t)"
      ],
      "metadata": {
        "colab": {
          "base_uri": "https://localhost:8080/"
        },
        "id": "G9Ikno1UN-Cj",
        "outputId": "0c896ff2-e9a4-4573-8791-e3cbb0735a32"
      },
      "execution_count": 27,
      "outputs": [
        {
          "output_type": "stream",
          "name": "stdout",
          "text": [
            "-1\n"
          ]
        }
      ]
    },
    {
      "cell_type": "code",
      "source": [
        "# if number is missing in the right half\n",
        "t = [1,2,3,4,5,6,7,9]\n",
        "findMissingInt(t)"
      ],
      "metadata": {
        "colab": {
          "base_uri": "https://localhost:8080/"
        },
        "id": "wt-mule2FPBu",
        "outputId": "8c803a2f-f35a-414d-94ee-145f8e38e88e"
      },
      "execution_count": 10,
      "outputs": [
        {
          "output_type": "execute_result",
          "data": {
            "text/plain": [
              "8"
            ]
          },
          "metadata": {},
          "execution_count": 10
        }
      ]
    },
    {
      "cell_type": "code",
      "source": [
        "# if number is missing in the left half\n",
        "t = [1,3,4,5,6,7,8,9]\n",
        "findMissingInt(t)"
      ],
      "metadata": {
        "colab": {
          "base_uri": "https://localhost:8080/"
        },
        "id": "OIkgdT6RFPrh",
        "outputId": "051b7a9a-bb7c-4910-d6c1-be2b1ae18d17"
      },
      "execution_count": 11,
      "outputs": [
        {
          "output_type": "execute_result",
          "data": {
            "text/plain": [
              "2"
            ]
          },
          "metadata": {},
          "execution_count": 11
        }
      ]
    },
    {
      "cell_type": "code",
      "source": [
        "# if number is missing at the midpoint\n",
        "t = [1,2,3,4,6,7,8,9]\n",
        "findMissingInt(t)"
      ],
      "metadata": {
        "colab": {
          "base_uri": "https://localhost:8080/"
        },
        "id": "KnZslz5lFQI8",
        "outputId": "032c57ec-399f-463f-ba35-25616293030e"
      },
      "execution_count": 12,
      "outputs": [
        {
          "output_type": "execute_result",
          "data": {
            "text/plain": [
              "5"
            ]
          },
          "metadata": {},
          "execution_count": 12
        }
      ]
    },
    {
      "cell_type": "markdown",
      "source": [
        "### verifying on even number of elements"
      ],
      "metadata": {
        "id": "Nc6LZliFGmX2"
      }
    },
    {
      "cell_type": "code",
      "source": [
        "# if no number is missing\n",
        "t = [1,2,3,4,5,6,7,8]\n",
        "findMissingInt(t)"
      ],
      "metadata": {
        "colab": {
          "base_uri": "https://localhost:8080/"
        },
        "id": "vAKDCrf2OSIL",
        "outputId": "a78b4d57-f7e0-4f04-d062-f8a6e248d4bb"
      },
      "execution_count": 30,
      "outputs": [
        {
          "output_type": "stream",
          "name": "stdout",
          "text": [
            "-1\n"
          ]
        }
      ]
    },
    {
      "cell_type": "code",
      "source": [
        "# if number is missing in the right half\n",
        "t = [1,2,3,4,5,6,8]\n",
        "findMissingInt(t)"
      ],
      "metadata": {
        "colab": {
          "base_uri": "https://localhost:8080/"
        },
        "outputId": "ccd3de54-ee69-43a0-e620-d82d57623c23",
        "id": "2wHGDReGF9iY"
      },
      "execution_count": 13,
      "outputs": [
        {
          "output_type": "execute_result",
          "data": {
            "text/plain": [
              "7"
            ]
          },
          "metadata": {},
          "execution_count": 13
        }
      ]
    },
    {
      "cell_type": "code",
      "source": [
        "# if number is missing in the left half\n",
        "t = [1,3,4,5,6,7,8]\n",
        "findMissingInt(t)"
      ],
      "metadata": {
        "colab": {
          "base_uri": "https://localhost:8080/"
        },
        "outputId": "7a860074-8da9-4648-faf1-5eff529c6ddc",
        "id": "xx0-4rnGF9iZ"
      },
      "execution_count": 14,
      "outputs": [
        {
          "output_type": "execute_result",
          "data": {
            "text/plain": [
              "2"
            ]
          },
          "metadata": {},
          "execution_count": 14
        }
      ]
    },
    {
      "cell_type": "code",
      "source": [
        "# if number is missing at the midpoint\n",
        "t = [1,2,3,6,7,8]\n",
        "findMissingInt(t)"
      ],
      "metadata": {
        "colab": {
          "base_uri": "https://localhost:8080/"
        },
        "outputId": "83911ee9-922a-4bab-c43d-78e267396081",
        "id": "xt11HeaFF9ia"
      },
      "execution_count": 15,
      "outputs": [
        {
          "output_type": "execute_result",
          "data": {
            "text/plain": [
              "4"
            ]
          },
          "metadata": {},
          "execution_count": 15
        }
      ]
    },
    {
      "cell_type": "code",
      "source": [
        "# if number is missing at the midpoint\n",
        "t = [1,2,3,4,6,7,8]\n",
        "findMissingInt(t)"
      ],
      "metadata": {
        "colab": {
          "base_uri": "https://localhost:8080/"
        },
        "id": "z7197JUsGIpV",
        "outputId": "7e45a26e-e47d-4921-a58b-1f5a40955bf3"
      },
      "execution_count": 16,
      "outputs": [
        {
          "output_type": "execute_result",
          "data": {
            "text/plain": [
              "5"
            ]
          },
          "metadata": {},
          "execution_count": 16
        }
      ]
    },
    {
      "cell_type": "markdown",
      "source": [
        "## method 2: By using while loop"
      ],
      "metadata": {
        "id": "ioQ5fOH-JMCu"
      }
    },
    {
      "cell_type": "code",
      "source": [
        "# method 2: by the use of while loop\n",
        "\n",
        "def findMissingInt(t):\n",
        "  found = False\n",
        "  s = 0\n",
        "  e = len(t)-1\n",
        "  if len(t) != t[-1]-t[0]+1:\n",
        "    while s < e and not found:\n",
        "      if s-e < 4:\n",
        "        for i in range(s,e):\n",
        "            if t[i] + 1 != t[i+1]:\n",
        "              print(t[i]+1)\n",
        "        break\n",
        "      elif ((t[s]+t[e])//2) == (t[(e-s+1)//2]):\n",
        "        # return findMissingInt(t[(len(t)//2): ])\n",
        "        s = t[(e-s+1)//2]-1\n",
        "      else:\n",
        "        # return findMissingInt(t[0: (len(t)//2)+1])\n",
        "        e = t[(e-s+1)//2]\n",
        "  else:\n",
        "    print(\"-1\")"
      ],
      "metadata": {
        "id": "wrzHWtkTJx-4"
      },
      "execution_count": 18,
      "outputs": []
    },
    {
      "cell_type": "markdown",
      "source": [
        "verifying code using various test cases:"
      ],
      "metadata": {
        "id": "hczS7nLyJWqx"
      }
    },
    {
      "cell_type": "markdown",
      "source": [
        "### verifying on odd number of elements"
      ],
      "metadata": {
        "id": "ftpZVRE1JWqy"
      }
    },
    {
      "cell_type": "code",
      "source": [
        "# if no number is missing\n",
        "t = [1,2,3,4,5,6,7,8,9]\n",
        "findMissingInt(t)"
      ],
      "metadata": {
        "colab": {
          "base_uri": "https://localhost:8080/"
        },
        "id": "3GaQRBl3OHOj",
        "outputId": "707b90d3-3054-4c7c-9537-553c8f30a9b3"
      },
      "execution_count": 28,
      "outputs": [
        {
          "output_type": "stream",
          "name": "stdout",
          "text": [
            "-1\n"
          ]
        }
      ]
    },
    {
      "cell_type": "code",
      "source": [
        "# if number is missing in the right half\n",
        "t = [1,2,3,4,5,6,7,9]\n",
        "findMissingInt(t)"
      ],
      "metadata": {
        "colab": {
          "base_uri": "https://localhost:8080/"
        },
        "outputId": "dce0615a-4491-47f7-9815-b795d71d9638",
        "id": "vX3TIixQJWqy"
      },
      "execution_count": 19,
      "outputs": [
        {
          "output_type": "stream",
          "name": "stdout",
          "text": [
            "8\n"
          ]
        }
      ]
    },
    {
      "cell_type": "code",
      "source": [
        "# if number is missing in the left half\n",
        "t = [1,3,4,5,6,7,8,9]\n",
        "findMissingInt(t)"
      ],
      "metadata": {
        "colab": {
          "base_uri": "https://localhost:8080/"
        },
        "outputId": "13911e48-a59a-4040-f3d2-c49b54304a2f",
        "id": "Wtj7NLzxJWqz"
      },
      "execution_count": 20,
      "outputs": [
        {
          "output_type": "stream",
          "name": "stdout",
          "text": [
            "2\n"
          ]
        }
      ]
    },
    {
      "cell_type": "code",
      "source": [
        "# if number is missing at the midpoint\n",
        "t = [1,2,3,4,6,7,8,9]\n",
        "findMissingInt(t)"
      ],
      "metadata": {
        "colab": {
          "base_uri": "https://localhost:8080/"
        },
        "outputId": "3734579e-4078-44db-d0f1-1ff09966e3a1",
        "id": "uZGJ5Ju5JWq0"
      },
      "execution_count": 21,
      "outputs": [
        {
          "output_type": "stream",
          "name": "stdout",
          "text": [
            "5\n"
          ]
        }
      ]
    },
    {
      "cell_type": "markdown",
      "source": [
        "### verifying on even number of elements"
      ],
      "metadata": {
        "id": "tUho2Cu3JWq1"
      }
    },
    {
      "cell_type": "code",
      "source": [
        "# if no number is missing\n",
        "t = [1,2,3,4,5,6,7,8]\n",
        "findMissingInt(t)"
      ],
      "metadata": {
        "colab": {
          "base_uri": "https://localhost:8080/"
        },
        "id": "T9C-jxMbOL9t",
        "outputId": "b99ba446-434e-435a-bc05-b4addacd7436"
      },
      "execution_count": 29,
      "outputs": [
        {
          "output_type": "stream",
          "name": "stdout",
          "text": [
            "-1\n"
          ]
        }
      ]
    },
    {
      "cell_type": "code",
      "source": [
        "# if number is missing in the right half\n",
        "t = [1,2,3,4,5,6,8]\n",
        "findMissingInt(t)"
      ],
      "metadata": {
        "colab": {
          "base_uri": "https://localhost:8080/"
        },
        "outputId": "1d06e1f2-569b-47fe-f819-c70edefb9d38",
        "id": "xsc8vqy2JWq1"
      },
      "execution_count": 22,
      "outputs": [
        {
          "output_type": "stream",
          "name": "stdout",
          "text": [
            "7\n"
          ]
        }
      ]
    },
    {
      "cell_type": "code",
      "source": [
        "# if number is missing in the left half\n",
        "t = [1,3,4,5,6,7,8]\n",
        "findMissingInt(t)"
      ],
      "metadata": {
        "colab": {
          "base_uri": "https://localhost:8080/"
        },
        "outputId": "484ee5e6-02d9-4e97-b9af-84829fc47a3a",
        "id": "-qaGjreOJWq1"
      },
      "execution_count": 23,
      "outputs": [
        {
          "output_type": "stream",
          "name": "stdout",
          "text": [
            "2\n"
          ]
        }
      ]
    },
    {
      "cell_type": "code",
      "source": [
        "# if number is missing at the midpoint\n",
        "t = [1,2,3,6,7,8]\n",
        "findMissingInt(t)"
      ],
      "metadata": {
        "colab": {
          "base_uri": "https://localhost:8080/"
        },
        "outputId": "022d376b-58c3-43ce-ac52-22e90f524f3b",
        "id": "A6K-kk-LJWq2"
      },
      "execution_count": 24,
      "outputs": [
        {
          "output_type": "stream",
          "name": "stdout",
          "text": [
            "4\n"
          ]
        }
      ]
    },
    {
      "cell_type": "code",
      "source": [
        "# if number is missing at the midpoint\n",
        "t = [1,2,3,4,6,7,8]\n",
        "findMissingInt(t)"
      ],
      "metadata": {
        "colab": {
          "base_uri": "https://localhost:8080/"
        },
        "outputId": "501c8b01-fdff-4442-b530-9177fd45dfc7",
        "id": "i34OvG2DJWq2"
      },
      "execution_count": 25,
      "outputs": [
        {
          "output_type": "stream",
          "name": "stdout",
          "text": [
            "5\n"
          ]
        }
      ]
    }
  ]
}