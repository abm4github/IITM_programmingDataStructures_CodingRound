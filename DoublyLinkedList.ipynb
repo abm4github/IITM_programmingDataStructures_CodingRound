{
  "nbformat": 4,
  "nbformat_minor": 0,
  "metadata": {
    "colab": {
      "provenance": [],
      "authorship_tag": "ABX9TyOgBJ3f7yu6nyyk26gDcreo",
      "include_colab_link": true
    },
    "kernelspec": {
      "name": "python3",
      "display_name": "Python 3"
    },
    "language_info": {
      "name": "python"
    }
  },
  "cells": [
    {
      "cell_type": "markdown",
      "metadata": {
        "id": "view-in-github",
        "colab_type": "text"
      },
      "source": [
        "<a href=\"https://colab.research.google.com/github/abm4github/IITM_programmingDataStructures_CodingRound/blob/main/DoublyLinkedList.ipynb\" target=\"_parent\"><img src=\"https://colab.research.google.com/assets/colab-badge.svg\" alt=\"Open In Colab\"/></a>"
      ]
    },
    {
      "cell_type": "markdown",
      "source": [
        "contructing a doubly linked list"
      ],
      "metadata": {
        "id": "2Q2-b7YjytIX"
      }
    },
    {
      "cell_type": "code",
      "execution_count": 18,
      "metadata": {
        "id": "WW5eYE_CetrN"
      },
      "outputs": [],
      "source": [
        "class Node():\n",
        "  def __init__(self, data):\n",
        "    self.data = data\n",
        "    self.next = None\n",
        "    self.prev = None\n",
        "  \n",
        "class doubly_linked_list():\n",
        "  def __init__(self):\n",
        "    self.head = None\n",
        "    self.last = None\n",
        "  \n",
        "  def insert_at_end(self, data):\n",
        "    node = Node(data)\n",
        "    if self.head == None:\n",
        "      self.head = node\n",
        "      self.last = node\n",
        "    else:\n",
        "      node.prev = self.last\n",
        "      self.last.next = node\n",
        "      self.last = node\n",
        "\n",
        "  def insert_at_pos(self, data, pos):\n",
        "    node = Node(data)\n",
        "    c = 1\n",
        "    temp = self.head\n",
        "    while c < pos-1:\n",
        "      temp = temp.next\n",
        "      c += 1\n",
        "    node.prev = temp\n",
        "    node.next = temp.next\n",
        "    temp.next.prev = node\n",
        "    temp.next = node\n",
        "  \n",
        "  def traverse(self):\n",
        "    temp = self.head\n",
        "    while temp != None:\n",
        "      if temp.next != None:\n",
        "        print(temp.data, end = \",\")\n",
        "      else:\n",
        "        print(temp.data)\n",
        "      temp = temp.next\n",
        "  \n",
        "  def traverse_rev(self):\n",
        "    temp = self.last\n",
        "    while temp != None:\n",
        "      if temp.prev != None:\n",
        "        print(temp.data, end = \",\")\n",
        "      else:\n",
        "        print(temp.data)\n",
        "      temp = temp.prev\n",
        "    \n",
        "\n",
        "      "
      ]
    },
    {
      "cell_type": "code",
      "source": [
        "L = [1,3,5,7,9]\n",
        "data = 20\n",
        "pos = 2\n",
        "\n",
        "A = doubly_linked_list()\n",
        "for i in L:\n",
        "  A.insert_at_end(i)\n",
        "A.insert_at_pos(data, pos)\n",
        "A.traverse()\n",
        "A.traverse_rev()"
      ],
      "metadata": {
        "colab": {
          "base_uri": "https://localhost:8080/"
        },
        "id": "WfenxDEaoXg2",
        "outputId": "754ab57c-2912-425e-de62-dfab84adf1e8"
      },
      "execution_count": 19,
      "outputs": [
        {
          "output_type": "stream",
          "name": "stdout",
          "text": [
            "1,20,3,5,7,9\n",
            "9,7,5,3,20,1\n"
          ]
        }
      ]
    },
    {
      "cell_type": "code",
      "source": [
        "L = [10,20,30,40,50,60]\n",
        "data = 15\n",
        "pos = 2\n",
        "\n",
        "A = doubly_linked_list()\n",
        "for i in L:\n",
        "  A.insert_at_end(i)\n",
        "A.insert_at_pos(data, pos)\n",
        "A.traverse()\n",
        "A.traverse_rev()"
      ],
      "metadata": {
        "colab": {
          "base_uri": "https://localhost:8080/"
        },
        "id": "6SDjHygZpgR0",
        "outputId": "5a2b1e2a-3266-44ad-dcfe-6ea50819e392"
      },
      "execution_count": 20,
      "outputs": [
        {
          "output_type": "stream",
          "name": "stdout",
          "text": [
            "10,15,20,30,40,50,60\n",
            "60,50,40,30,20,15,10\n"
          ]
        }
      ]
    },
    {
      "cell_type": "code",
      "source": [
        "L = [10,20,30,40,50,60]\n",
        "data = 55\n",
        "pos = 6\n",
        "\n",
        "A = doubly_linked_list()\n",
        "for i in L:\n",
        "  A.insert_at_end(i)\n",
        "A.insert_at_pos(data, pos)\n",
        "A.traverse()\n",
        "A.traverse_rev()"
      ],
      "metadata": {
        "colab": {
          "base_uri": "https://localhost:8080/"
        },
        "id": "b6R_lvNKxaTe",
        "outputId": "6d29dc78-02fb-4b34-aa45-3a174cf22ad3"
      },
      "execution_count": 21,
      "outputs": [
        {
          "output_type": "stream",
          "name": "stdout",
          "text": [
            "10,20,30,40,50,55,60\n",
            "60,55,50,40,30,20,10\n"
          ]
        }
      ]
    },
    {
      "cell_type": "code",
      "source": [
        "L = [10,20,30,40,30,20,10]\n",
        "data = 50\n",
        "pos = 5\n",
        "\n",
        "A = doubly_linked_list()\n",
        "for i in L:\n",
        "  A.insert_at_end(i)\n",
        "A.insert_at_pos(data, pos)\n",
        "A.traverse()\n",
        "A.traverse_rev()"
      ],
      "metadata": {
        "colab": {
          "base_uri": "https://localhost:8080/"
        },
        "id": "nRSu6-Zoxa_x",
        "outputId": "445ed879-70d8-42db-db68-23a27048d820"
      },
      "execution_count": 23,
      "outputs": [
        {
          "output_type": "stream",
          "name": "stdout",
          "text": [
            "10,20,30,40,50,30,20,10\n",
            "10,20,30,50,40,30,20,10\n"
          ]
        }
      ]
    },
    {
      "cell_type": "code",
      "source": [
        "L = [4,5,6,7,8,9,10]\n",
        "data = 30\n",
        "pos = 5\n",
        "\n",
        "A = doubly_linked_list()\n",
        "for i in L:\n",
        "  A.insert_at_end(i)\n",
        "A.insert_at_pos(data, pos)\n",
        "A.traverse()\n",
        "A.traverse_rev()"
      ],
      "metadata": {
        "colab": {
          "base_uri": "https://localhost:8080/"
        },
        "id": "ZOGQSHxWxkye",
        "outputId": "79e2b14b-fe1f-4ca7-8005-cb85b879d98c"
      },
      "execution_count": 24,
      "outputs": [
        {
          "output_type": "stream",
          "name": "stdout",
          "text": [
            "4,5,6,7,30,8,9,10\n",
            "10,9,8,30,7,6,5,4\n"
          ]
        }
      ]
    },
    {
      "cell_type": "code",
      "source": [
        "L = [1,2,3,4,5,6,7,8,9]\n",
        "data = 10\n",
        "pos = 8\n",
        "\n",
        "A = doubly_linked_list()\n",
        "for i in L:\n",
        "  A.insert_at_end(i)\n",
        "A.insert_at_pos(data, pos)\n",
        "A.traverse()\n",
        "A.traverse_rev()"
      ],
      "metadata": {
        "colab": {
          "base_uri": "https://localhost:8080/"
        },
        "id": "_-Z8VQbzxmfx",
        "outputId": "97e7341d-2fa2-46e4-e6f5-3bade5dd0110"
      },
      "execution_count": 25,
      "outputs": [
        {
          "output_type": "stream",
          "name": "stdout",
          "text": [
            "1,2,3,4,5,6,7,10,8,9\n",
            "9,8,10,7,6,5,4,3,2,1\n"
          ]
        }
      ]
    },
    {
      "cell_type": "code",
      "source": [
        "L = [30,50,56,20,65,90]\n",
        "data = 45\n",
        "pos = 2\n",
        "\n",
        "A = doubly_linked_list()\n",
        "for i in L:\n",
        "  A.insert_at_end(i)\n",
        "A.insert_at_pos(data, pos)\n",
        "A.traverse()\n",
        "A.traverse_rev()"
      ],
      "metadata": {
        "colab": {
          "base_uri": "https://localhost:8080/"
        },
        "id": "GKU2bQuyyFdj",
        "outputId": "ac1fc2d0-d57c-475b-b800-3147088e0616"
      },
      "execution_count": 26,
      "outputs": [
        {
          "output_type": "stream",
          "name": "stdout",
          "text": [
            "30,45,50,56,20,65,90\n",
            "90,65,20,56,50,45,30\n"
          ]
        }
      ]
    }
  ]
}