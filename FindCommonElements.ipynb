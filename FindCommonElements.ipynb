{
  "nbformat": 4,
  "nbformat_minor": 0,
  "metadata": {
    "colab": {
      "provenance": [],
      "authorship_tag": "ABX9TyOt2Dowm0M6Xk00+QPn7XW4",
      "include_colab_link": true
    },
    "kernelspec": {
      "name": "python3",
      "display_name": "Python 3"
    },
    "language_info": {
      "name": "python"
    }
  },
  "cells": [
    {
      "cell_type": "markdown",
      "metadata": {
        "id": "view-in-github",
        "colab_type": "text"
      },
      "source": [
        "<a href=\"https://colab.research.google.com/github/abm4github/IITM_programmingDataStructures_CodingRound/blob/main/FindCommonElements.ipynb\" target=\"_parent\"><img src=\"https://colab.research.google.com/assets/colab-badge.svg\" alt=\"Open In Colab\"/></a>"
      ]
    },
    {
      "cell_type": "markdown",
      "source": [
        "Write a Python function findCommonElements(L1, L2) that accepts two integer lists L1 and L2\n",
        "of same length n and return a list that contains elements that are common t0 both lists. Write an efficient solution that runs in O(nlogn) time.\n",
        "\n",
        "*   L1 contains all distinct integers and L2 contains all distinct integers, but there can be many\n",
        "elements common between L1 and L2 .\n",
        "*   Returned list contains all elements that are common to L1 and L2 . The elements in the returned list can be in any order.\n",
        "\n",
        "\n"
      ],
      "metadata": {
        "id": "pP-8wrhQjpXY"
      }
    },
    {
      "cell_type": "code",
      "execution_count": 18,
      "metadata": {
        "id": "B7s9pggZilJi"
      },
      "outputs": [],
      "source": [
        "# Using recursion\n",
        "\n",
        "def binarysearch(L, i, s, e):\n",
        "  if L[s: e+1] == []:\n",
        "    return False\n",
        "  if len(L[s:e+1]) <= 2:\n",
        "    for p in L[s:e+1]:\n",
        "      if p == i:\n",
        "        return True\n",
        "    return False\n",
        "  while s < e:\n",
        "    mid = s +((e-s)//2)\n",
        "    if L[mid] == i:\n",
        "      return True\n",
        "    elif L[mid] > i:\n",
        "      return binarysearch(L, i , s, mid)\n",
        "    else:\n",
        "      return binarysearch(L, i, mid, e )\n",
        "  \n",
        "def findCommonElements(L1, L2):\n",
        "  L1.sort()\n",
        "  L3 = []\n",
        "  for i in L2:\n",
        "    if (binarysearch(L1, i, 0, len(L1)-1) == True):\n",
        "      L3.append(i)\n",
        "  return L3"
      ]
    },
    {
      "cell_type": "code",
      "source": [
        "findCommonElements([23, 24, 18, 22, 20, 10, 17, 12, 16, 19, 21, 15, 14, 11, 13], [23, 22, 33, 24, 31, 21, 20, 26, 30, 29, 25, 27, 28, 34, 32])"
      ],
      "metadata": {
        "colab": {
          "base_uri": "https://localhost:8080/"
        },
        "id": "4FOyjIBcqKXW",
        "outputId": "d6f0bef6-c6ce-4b2d-b097-f6c0cee1b573"
      },
      "execution_count": 19,
      "outputs": [
        {
          "output_type": "execute_result",
          "data": {
            "text/plain": [
              "[23, 22, 24, 21, 20]"
            ]
          },
          "metadata": {},
          "execution_count": 19
        }
      ]
    },
    {
      "cell_type": "code",
      "source": [
        "findCommonElements([3, 7, 2, 9, 5],[6, 3, 7, 5, 4])"
      ],
      "metadata": {
        "colab": {
          "base_uri": "https://localhost:8080/"
        },
        "id": "pTOgOKpKgQL8",
        "outputId": "ec1cd5fd-feae-4428-fcdd-1ff176c56fd1"
      },
      "execution_count": 24,
      "outputs": [
        {
          "output_type": "execute_result",
          "data": {
            "text/plain": [
              "[3, 7, 5]"
            ]
          },
          "metadata": {},
          "execution_count": 24
        }
      ]
    },
    {
      "cell_type": "code",
      "source": [
        "# Non recursive method (using while loop)\n",
        "\n",
        "def binarysearch(L, i):\n",
        "  s = 0\n",
        "  e = len(L)-1\n",
        "  while s < e:\n",
        "    if L[s: e+1] == []:\n",
        "      return False\n",
        "    if len(L[s:e+1]) <= 2:\n",
        "      for p in L[s:e+1]:\n",
        "        if p == i:\n",
        "          return True\n",
        "      return False\n",
        "    mid = s +((e-s)//2)\n",
        "    if L[mid] == i:\n",
        "      return True\n",
        "    elif L[mid] > i:\n",
        "      e = mid\n",
        "    else:\n",
        "      s = mid\n",
        "\n",
        "\n",
        "def findCommonElements(L1, L2):\n",
        "  L1.sort()\n",
        "  L3 = []\n",
        "  for i in L2:\n",
        "    if (binarysearch(L1, i) == True):\n",
        "      L3.append(i)\n",
        "  return L3"
      ],
      "metadata": {
        "id": "ePJ0pjCtfdLk"
      },
      "execution_count": 22,
      "outputs": []
    },
    {
      "cell_type": "code",
      "source": [
        "findCommonElements([23, 24, 18, 22, 20, 10, 17, 12, 16, 19, 21, 15, 14, 11, 13], [23, 22, 33, 24, 31, 21, 20, 26, 30, 29, 25, 27, 28, 34, 32])"
      ],
      "metadata": {
        "colab": {
          "base_uri": "https://localhost:8080/"
        },
        "id": "fHSb9iagf50r",
        "outputId": "96ffb871-e465-47af-8caf-b15f80ed86bd"
      },
      "execution_count": 23,
      "outputs": [
        {
          "output_type": "execute_result",
          "data": {
            "text/plain": [
              "[23, 22, 24, 21, 20]"
            ]
          },
          "metadata": {},
          "execution_count": 23
        }
      ]
    },
    {
      "cell_type": "code",
      "source": [
        "findCommonElements([3, 7, 2, 9, 5],[6, 3, 7, 5, 4])"
      ],
      "metadata": {
        "colab": {
          "base_uri": "https://localhost:8080/"
        },
        "id": "SRatJNk0gbJy",
        "outputId": "45d7fb2e-bbfc-4b3f-d65f-99ec485c0ead"
      },
      "execution_count": 25,
      "outputs": [
        {
          "output_type": "execute_result",
          "data": {
            "text/plain": [
              "[3, 7, 5]"
            ]
          },
          "metadata": {},
          "execution_count": 25
        }
      ]
    }
  ]
}