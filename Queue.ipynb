{
  "nbformat": 4,
  "nbformat_minor": 0,
  "metadata": {
    "colab": {
      "provenance": [],
      "authorship_tag": "ABX9TyM4Jjj+LIjE+VirYaszbDbn",
      "include_colab_link": true
    },
    "kernelspec": {
      "name": "python3",
      "display_name": "Python 3"
    },
    "language_info": {
      "name": "python"
    }
  },
  "cells": [
    {
      "cell_type": "markdown",
      "metadata": {
        "id": "view-in-github",
        "colab_type": "text"
      },
      "source": [
        "<a href=\"https://colab.research.google.com/github/abm4github/IITM_programmingDataStructures_CodingRound/blob/main/Queue.ipynb\" target=\"_parent\"><img src=\"https://colab.research.google.com/assets/colab-badge.svg\" alt=\"Open In Colab\"/></a>"
      ]
    },
    {
      "cell_type": "markdown",
      "source": [
        "creating class Queue : first in first out (FIFO)"
      ],
      "metadata": {
        "id": "8BDRtwjEeJI4"
      }
    },
    {
      "cell_type": "code",
      "execution_count": 12,
      "metadata": {
        "id": "Rh6QsU2xJVfg"
      },
      "outputs": [],
      "source": [
        "class Node():\n",
        "  def __init__(self, data):\n",
        "    self.data = data\n",
        "    self.next = None\n",
        "\n",
        "class Queue:\n",
        "  def __init__(self):\n",
        "    self.head = None\n",
        "    self.last = None\n",
        "\n",
        "  def Enqueue(self,data):\n",
        "    node = Node(data)\n",
        "    if self.head == None:\n",
        "      self.head = node\n",
        "      self.last = node\n",
        "    else:\n",
        "      self.last.next = node\n",
        "      self.last = node\n",
        "\n",
        "  def Dequeue(self):\n",
        "    if self.head != None:\n",
        "      item = self.head.data\n",
        "      if self.head == self.last:\n",
        "        self.head = None\n",
        "        self.last = None\n",
        "      else:\n",
        "        self.head = self.head.next\n",
        "      return item\n",
        "\n",
        "  def traverse(self):\n",
        "    temp = self.head\n",
        "    if temp != None:\n",
        "      while temp != None:\n",
        "        if temp.next != None:\n",
        "          print(temp.data, end=\",\")\n",
        "        elif temp.next == None:\n",
        "          print(temp.data)\n",
        "        temp = temp.next\n",
        "    elif temp == None:\n",
        "      print('None')\n"
      ]
    },
    {
      "cell_type": "code",
      "source": [
        "q = [1,2,3,4,5,6,7] \n",
        "d = 3\n",
        "\n",
        "A = Queue()\n",
        "\n",
        "for i in q:\n",
        "  A.Enqueue(i)\n",
        "\n",
        "for j in range(d):\n",
        "  print(A.Dequeue())\n",
        "\n",
        "A.traverse()"
      ],
      "metadata": {
        "colab": {
          "base_uri": "https://localhost:8080/"
        },
        "id": "iIsUULmLbS8c",
        "outputId": "85b53b88-fee8-4366-830e-7a2122384cae"
      },
      "execution_count": 13,
      "outputs": [
        {
          "output_type": "stream",
          "name": "stdout",
          "text": [
            "1\n",
            "2\n",
            "3\n",
            "4,5,6,7\n"
          ]
        }
      ]
    },
    {
      "cell_type": "code",
      "source": [
        "q = [1,2,3,4,5,6]\n",
        "d = 2\n",
        "\n",
        "A = Queue()\n",
        "\n",
        "for i in q:\n",
        "  A.Enqueue(i)\n",
        "\n",
        "for j in range(d):\n",
        "  print(A.Dequeue())\n",
        "\n",
        "A.traverse()"
      ],
      "metadata": {
        "colab": {
          "base_uri": "https://localhost:8080/"
        },
        "id": "OxqenFE9cV5O",
        "outputId": "3be05a59-c8f2-4de7-f0b3-e5b63b509868"
      },
      "execution_count": 17,
      "outputs": [
        {
          "output_type": "stream",
          "name": "stdout",
          "text": [
            "1\n",
            "2\n",
            "3,4,5,6\n"
          ]
        }
      ]
    },
    {
      "cell_type": "code",
      "source": [
        "q = [10,20,30,40,50]\n",
        "d = 5\n",
        "\n",
        "A = Queue()\n",
        "\n",
        "for i in q:\n",
        "  A.Enqueue(i)\n",
        "\n",
        "for j in range(d):\n",
        "  print(A.Dequeue())\n",
        "\n",
        "A.traverse()"
      ],
      "metadata": {
        "colab": {
          "base_uri": "https://localhost:8080/"
        },
        "id": "uHjEsISKdOsv",
        "outputId": "539b6eb8-66c7-47aa-ba00-7108a0b0f5a0"
      },
      "execution_count": 18,
      "outputs": [
        {
          "output_type": "stream",
          "name": "stdout",
          "text": [
            "10\n",
            "20\n",
            "30\n",
            "40\n",
            "50\n",
            "None\n"
          ]
        }
      ]
    },
    {
      "cell_type": "code",
      "source": [
        "q = [10,20,30] \n",
        "d = 4\n",
        "\n",
        "A = Queue()\n",
        "\n",
        "for i in q:\n",
        "  A.Enqueue(i)\n",
        "\n",
        "for j in range(d):\n",
        "  print(A.Dequeue())\n",
        "\n",
        "A.traverse()"
      ],
      "metadata": {
        "colab": {
          "base_uri": "https://localhost:8080/"
        },
        "id": "w1YMo8WxdO9R",
        "outputId": "534d7bf7-f1e1-4729-8f34-44dc53dc6a42"
      },
      "execution_count": 19,
      "outputs": [
        {
          "output_type": "stream",
          "name": "stdout",
          "text": [
            "10\n",
            "20\n",
            "30\n",
            "None\n",
            "None\n"
          ]
        }
      ]
    },
    {
      "cell_type": "code",
      "source": [
        "q = [] \n",
        "d = 1\n",
        "\n",
        "A = Queue()\n",
        "\n",
        "for i in q:\n",
        "  A.Enqueue(i)\n",
        "\n",
        "for j in range(d):\n",
        "  print(A.Dequeue())\n",
        "\n",
        "A.traverse()"
      ],
      "metadata": {
        "colab": {
          "base_uri": "https://localhost:8080/"
        },
        "id": "XqkpAYS2dPL5",
        "outputId": "e0482642-d9c8-48d2-8d3c-66d8c4e17f83"
      },
      "execution_count": 20,
      "outputs": [
        {
          "output_type": "stream",
          "name": "stdout",
          "text": [
            "None\n",
            "None\n"
          ]
        }
      ]
    },
    {
      "cell_type": "code",
      "source": [
        "q = [5,5,5,5,5,5,5] \n",
        "d = 4\n",
        "\n",
        "A = Queue()\n",
        "\n",
        "for i in q:\n",
        "  A.Enqueue(i)\n",
        "\n",
        "for j in range(d):\n",
        "  print(A.Dequeue())\n",
        "\n",
        "A.traverse()"
      ],
      "metadata": {
        "colab": {
          "base_uri": "https://localhost:8080/"
        },
        "id": "69ckPgrydjJn",
        "outputId": "5a6530f8-f8fd-4e6e-a187-611a2ae0252e"
      },
      "execution_count": 23,
      "outputs": [
        {
          "output_type": "stream",
          "name": "stdout",
          "text": [
            "5\n",
            "5\n",
            "5\n",
            "5\n",
            "5,5,5\n"
          ]
        }
      ]
    },
    {
      "cell_type": "code",
      "source": [
        "q = [2,3,6,8,9,10,45,67,99,50]\n",
        "d = 5\n",
        "\n",
        "A = Queue()\n",
        "\n",
        "for i in q:\n",
        "  A.Enqueue(i)\n",
        "\n",
        "for j in range(d):\n",
        "  print(A.Dequeue())\n",
        "\n",
        "A.traverse()"
      ],
      "metadata": {
        "colab": {
          "base_uri": "https://localhost:8080/"
        },
        "id": "5lGxj0j8doe6",
        "outputId": "f86b9148-3432-41d5-80c7-1579c776e911"
      },
      "execution_count": 22,
      "outputs": [
        {
          "output_type": "stream",
          "name": "stdout",
          "text": [
            "2\n",
            "3\n",
            "6\n",
            "8\n",
            "9\n",
            "10,45,67,99,50\n"
          ]
        }
      ]
    }
  ]
}